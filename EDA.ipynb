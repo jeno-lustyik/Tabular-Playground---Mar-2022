{
 "cells": [
  {
   "cell_type": "code",
   "execution_count": 58,
   "metadata": {
    "collapsed": true
   },
   "outputs": [],
   "source": [
    "import pandas as pd\n",
    "import numpy as np\n",
    "import seaborn as sns\n",
    "import matplotlib.pyplot as plt\n",
    "\n",
    "df_train = pd.read_csv('data/train.csv').drop(['row_id'], axis=1)\n",
    "df_test = pd.read_csv('data/test.csv').drop(['row_id'], axis=1)"
   ]
  },
  {
   "cell_type": "code",
   "execution_count": 59,
   "outputs": [
    {
     "data": {
      "text/plain": "                     time  x  y direction\n0     1991-09-30 12:00:00  0  0        EB\n1     1991-09-30 12:00:00  0  0        NB\n2     1991-09-30 12:00:00  0  0        SB\n3     1991-09-30 12:00:00  0  1        EB\n4     1991-09-30 12:00:00  0  1        NB\n...                   ... .. ..       ...\n2335  1991-09-30 23:40:00  2  3        NB\n2336  1991-09-30 23:40:00  2  3        NE\n2337  1991-09-30 23:40:00  2  3        SB\n2338  1991-09-30 23:40:00  2  3        SW\n2339  1991-09-30 23:40:00  2  3        WB\n\n[2340 rows x 4 columns]",
      "text/html": "<div>\n<style scoped>\n    .dataframe tbody tr th:only-of-type {\n        vertical-align: middle;\n    }\n\n    .dataframe tbody tr th {\n        vertical-align: top;\n    }\n\n    .dataframe thead th {\n        text-align: right;\n    }\n</style>\n<table border=\"1\" class=\"dataframe\">\n  <thead>\n    <tr style=\"text-align: right;\">\n      <th></th>\n      <th>time</th>\n      <th>x</th>\n      <th>y</th>\n      <th>direction</th>\n    </tr>\n  </thead>\n  <tbody>\n    <tr>\n      <th>0</th>\n      <td>1991-09-30 12:00:00</td>\n      <td>0</td>\n      <td>0</td>\n      <td>EB</td>\n    </tr>\n    <tr>\n      <th>1</th>\n      <td>1991-09-30 12:00:00</td>\n      <td>0</td>\n      <td>0</td>\n      <td>NB</td>\n    </tr>\n    <tr>\n      <th>2</th>\n      <td>1991-09-30 12:00:00</td>\n      <td>0</td>\n      <td>0</td>\n      <td>SB</td>\n    </tr>\n    <tr>\n      <th>3</th>\n      <td>1991-09-30 12:00:00</td>\n      <td>0</td>\n      <td>1</td>\n      <td>EB</td>\n    </tr>\n    <tr>\n      <th>4</th>\n      <td>1991-09-30 12:00:00</td>\n      <td>0</td>\n      <td>1</td>\n      <td>NB</td>\n    </tr>\n    <tr>\n      <th>...</th>\n      <td>...</td>\n      <td>...</td>\n      <td>...</td>\n      <td>...</td>\n    </tr>\n    <tr>\n      <th>2335</th>\n      <td>1991-09-30 23:40:00</td>\n      <td>2</td>\n      <td>3</td>\n      <td>NB</td>\n    </tr>\n    <tr>\n      <th>2336</th>\n      <td>1991-09-30 23:40:00</td>\n      <td>2</td>\n      <td>3</td>\n      <td>NE</td>\n    </tr>\n    <tr>\n      <th>2337</th>\n      <td>1991-09-30 23:40:00</td>\n      <td>2</td>\n      <td>3</td>\n      <td>SB</td>\n    </tr>\n    <tr>\n      <th>2338</th>\n      <td>1991-09-30 23:40:00</td>\n      <td>2</td>\n      <td>3</td>\n      <td>SW</td>\n    </tr>\n    <tr>\n      <th>2339</th>\n      <td>1991-09-30 23:40:00</td>\n      <td>2</td>\n      <td>3</td>\n      <td>WB</td>\n    </tr>\n  </tbody>\n</table>\n<p>2340 rows × 4 columns</p>\n</div>"
     },
     "execution_count": 59,
     "metadata": {},
     "output_type": "execute_result"
    }
   ],
   "source": [
    "df_test"
   ],
   "metadata": {
    "collapsed": false,
    "pycharm": {
     "name": "#%%\n"
    }
   }
  },
  {
   "cell_type": "code",
   "execution_count": 60,
   "outputs": [
    {
     "data": {
      "text/plain": "                       time  x  y direction  congestion\n0       1991-04-01 00:00:00  0  0        EB          70\n1       1991-04-01 00:00:00  0  0        NB          49\n2       1991-04-01 00:00:00  0  0        SB          24\n3       1991-04-01 00:00:00  0  1        EB          18\n4       1991-04-01 00:00:00  0  1        NB          60\n...                     ... .. ..       ...         ...\n848830  1991-09-30 11:40:00  2  3        NB          54\n848831  1991-09-30 11:40:00  2  3        NE          28\n848832  1991-09-30 11:40:00  2  3        SB          68\n848833  1991-09-30 11:40:00  2  3        SW          17\n848834  1991-09-30 11:40:00  2  3        WB          24\n\n[848835 rows x 5 columns]",
      "text/html": "<div>\n<style scoped>\n    .dataframe tbody tr th:only-of-type {\n        vertical-align: middle;\n    }\n\n    .dataframe tbody tr th {\n        vertical-align: top;\n    }\n\n    .dataframe thead th {\n        text-align: right;\n    }\n</style>\n<table border=\"1\" class=\"dataframe\">\n  <thead>\n    <tr style=\"text-align: right;\">\n      <th></th>\n      <th>time</th>\n      <th>x</th>\n      <th>y</th>\n      <th>direction</th>\n      <th>congestion</th>\n    </tr>\n  </thead>\n  <tbody>\n    <tr>\n      <th>0</th>\n      <td>1991-04-01 00:00:00</td>\n      <td>0</td>\n      <td>0</td>\n      <td>EB</td>\n      <td>70</td>\n    </tr>\n    <tr>\n      <th>1</th>\n      <td>1991-04-01 00:00:00</td>\n      <td>0</td>\n      <td>0</td>\n      <td>NB</td>\n      <td>49</td>\n    </tr>\n    <tr>\n      <th>2</th>\n      <td>1991-04-01 00:00:00</td>\n      <td>0</td>\n      <td>0</td>\n      <td>SB</td>\n      <td>24</td>\n    </tr>\n    <tr>\n      <th>3</th>\n      <td>1991-04-01 00:00:00</td>\n      <td>0</td>\n      <td>1</td>\n      <td>EB</td>\n      <td>18</td>\n    </tr>\n    <tr>\n      <th>4</th>\n      <td>1991-04-01 00:00:00</td>\n      <td>0</td>\n      <td>1</td>\n      <td>NB</td>\n      <td>60</td>\n    </tr>\n    <tr>\n      <th>...</th>\n      <td>...</td>\n      <td>...</td>\n      <td>...</td>\n      <td>...</td>\n      <td>...</td>\n    </tr>\n    <tr>\n      <th>848830</th>\n      <td>1991-09-30 11:40:00</td>\n      <td>2</td>\n      <td>3</td>\n      <td>NB</td>\n      <td>54</td>\n    </tr>\n    <tr>\n      <th>848831</th>\n      <td>1991-09-30 11:40:00</td>\n      <td>2</td>\n      <td>3</td>\n      <td>NE</td>\n      <td>28</td>\n    </tr>\n    <tr>\n      <th>848832</th>\n      <td>1991-09-30 11:40:00</td>\n      <td>2</td>\n      <td>3</td>\n      <td>SB</td>\n      <td>68</td>\n    </tr>\n    <tr>\n      <th>848833</th>\n      <td>1991-09-30 11:40:00</td>\n      <td>2</td>\n      <td>3</td>\n      <td>SW</td>\n      <td>17</td>\n    </tr>\n    <tr>\n      <th>848834</th>\n      <td>1991-09-30 11:40:00</td>\n      <td>2</td>\n      <td>3</td>\n      <td>WB</td>\n      <td>24</td>\n    </tr>\n  </tbody>\n</table>\n<p>848835 rows × 5 columns</p>\n</div>"
     },
     "execution_count": 60,
     "metadata": {},
     "output_type": "execute_result"
    }
   ],
   "source": [
    "df_train"
   ],
   "metadata": {
    "collapsed": false,
    "pycharm": {
     "name": "#%%\n"
    }
   }
  },
  {
   "cell_type": "code",
   "execution_count": 61,
   "outputs": [
    {
     "name": "stdout",
     "output_type": "stream",
     "text": [
      "<class 'pandas.core.frame.DataFrame'>\n",
      "RangeIndex: 848835 entries, 0 to 848834\n",
      "Data columns (total 5 columns):\n",
      " #   Column      Non-Null Count   Dtype \n",
      "---  ------      --------------   ----- \n",
      " 0   time        848835 non-null  object\n",
      " 1   x           848835 non-null  int64 \n",
      " 2   y           848835 non-null  int64 \n",
      " 3   direction   848835 non-null  object\n",
      " 4   congestion  848835 non-null  int64 \n",
      "dtypes: int64(3), object(2)\n",
      "memory usage: 32.4+ MB\n"
     ]
    }
   ],
   "source": [
    "df_train.info()"
   ],
   "metadata": {
    "collapsed": false,
    "pycharm": {
     "name": "#%%\n"
    }
   }
  },
  {
   "cell_type": "code",
   "execution_count": 62,
   "outputs": [
    {
     "data": {
      "text/plain": "Index(['time', 'x', 'y', 'direction', 'congestion'], dtype='object')"
     },
     "execution_count": 62,
     "metadata": {},
     "output_type": "execute_result"
    }
   ],
   "source": [
    "df_train.columns"
   ],
   "metadata": {
    "collapsed": false,
    "pycharm": {
     "name": "#%%\n"
    }
   }
  },
  {
   "cell_type": "code",
   "execution_count": 63,
   "outputs": [],
   "source": [
    "route_train = df_train['x'].astype(str) + df_train['y'].astype(str) + df_train['direction']\n",
    "df_train.insert(2, 'route', route_train )\n",
    "route_test = df_test['x'].astype(str) + df_test['y'].astype(str) + df_test['direction']\n",
    "df_test.insert(2, 'route', route_test )"
   ],
   "metadata": {
    "collapsed": false,
    "pycharm": {
     "name": "#%%\n"
    }
   }
  },
  {
   "cell_type": "code",
   "execution_count": 64,
   "outputs": [
    {
     "data": {
      "text/plain": "00NB    13059\n10WB    13059\n03NE    13059\n22WB    13059\n13SW    13059\n        ...  \n23WB    13059\n02EB    13059\n20EB    13059\n10NB    13059\n10SW    13059\nName: route, Length: 65, dtype: int64"
     },
     "execution_count": 64,
     "metadata": {},
     "output_type": "execute_result"
    }
   ],
   "source": [
    "df_train['route'].value_counts()"
   ],
   "metadata": {
    "collapsed": false,
    "pycharm": {
     "name": "#%%\n"
    }
   }
  },
  {
   "cell_type": "code",
   "execution_count": 66,
   "outputs": [
    {
     "data": {
      "text/plain": "<Figure size 792x648 with 1 Axes>",
      "image/png": "[encoded data removed]"
     },
     "metadata": {
      "needs_background": "light"
     },
     "output_type": "display_data"
    }
   ],
   "source": [
    "f, ax = plt.subplots(figsize=(11,9))"
   ],
   "metadata": {
    "collapsed": false,
    "pycharm": {
     "name": "#%%\n"
    }
   }
  }
 ],
 "metadata": {
  "kernelspec": {
   "display_name": "Python 3",
   "language": "python",
   "name": "python3"
  },
  "language_info": {
   "codemirror_mode": {
    "name": "ipython",
    "version": 2
   },
   "file_extension": ".py",
   "mimetype": "text/x-python",
   "name": "python",
   "nbconvert_exporter": "python",
   "pygments_lexer": "ipython2",
   "version": "2.7.6"
  }
 },
 "nbformat": 4,
 "nbformat_minor": 0
}