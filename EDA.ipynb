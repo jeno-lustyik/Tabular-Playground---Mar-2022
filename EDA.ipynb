{
 "cells": [
  {
   "cell_type": "markdown",
   "metadata": {},
   "source": [
    "### Import libraries"
   ]
  },
  {
   "cell_type": "code",
   "execution_count": 276,
   "metadata": {
    "collapsed": true
   },
   "outputs": [],
   "source": [
    "import pandas as pd\n",
    "import matplotlib.pyplot as plt\n",
    "import seaborn as sns"
   ]
  },
  {
   "cell_type": "markdown",
   "metadata": {},
   "source": [
    "### Loading .csv file"
   ]
  },
  {
   "cell_type": "code",
   "execution_count": 277,
   "metadata": {},
   "outputs": [],
   "source": [
    "df = pd.read_csv('train.csv')"
   ]
  },
  {
   "cell_type": "code",
   "execution_count": 278,
   "metadata": {},
   "outputs": [
    {
     "data": {
      "text/plain": [
       "array(['EB', 'NB', 'SB', 'WB', 'NE', 'SW', 'NW', 'SE'], dtype=object)"
      ]
     },
     "execution_count": 278,
     "metadata": {},
     "output_type": "execute_result"
    }
   ],
   "source": [
    "df.direction.unique()"
   ]
  },
  {
   "cell_type": "code",
   "execution_count": 279,
   "metadata": {},
   "outputs": [
    {
     "data": {
      "text/plain": [
       "(848835, 6)"
      ]
     },
     "execution_count": 279,
     "metadata": {},
     "output_type": "execute_result"
    }
   ],
   "source": [
    "df.shape"
   ]
  },
  {
   "cell_type": "code",
   "execution_count": 280,
   "metadata": {},
   "outputs": [
    {
     "name": "stdout",
     "output_type": "stream",
     "text": [
      "<class 'pandas.core.frame.DataFrame'>\n",
      "RangeIndex: 848835 entries, 0 to 848834\n",
      "Data columns (total 6 columns):\n",
      " #   Column      Non-Null Count   Dtype \n",
      "---  ------      --------------   ----- \n",
      " 0   row_id      848835 non-null  int64 \n",
      " 1   time        848835 non-null  object\n",
      " 2   x           848835 non-null  int64 \n",
      " 3   y           848835 non-null  int64 \n",
      " 4   direction   848835 non-null  object\n",
      " 5   congestion  848835 non-null  int64 \n",
      "dtypes: int64(4), object(2)\n",
      "memory usage: 38.9+ MB\n"
     ]
    }
   ],
   "source": [
    "df.info()"
   ]
  },
  {
   "cell_type": "code",
   "execution_count": 281,
   "metadata": {},
   "outputs": [
    {
     "data": {
      "text/html": [
       "<div>\n",
       "<style scoped>\n",
       "    .dataframe tbody tr th:only-of-type {\n",
       "        vertical-align: middle;\n",
       "    }\n",
       "\n",
       "    .dataframe tbody tr th {\n",
       "        vertical-align: top;\n",
       "    }\n",
       "\n",
       "    .dataframe thead th {\n",
       "        text-align: right;\n",
       "    }\n",
       "</style>\n",
       "<table border=\"1\" class=\"dataframe\">\n",
       "  <thead>\n",
       "    <tr style=\"text-align: right;\">\n",
       "      <th></th>\n",
       "      <th>row_id</th>\n",
       "      <th>time</th>\n",
       "      <th>x</th>\n",
       "      <th>y</th>\n",
       "      <th>direction</th>\n",
       "      <th>congestion</th>\n",
       "    </tr>\n",
       "  </thead>\n",
       "  <tbody>\n",
       "    <tr>\n",
       "      <th>count</th>\n",
       "      <td>848835.000000</td>\n",
       "      <td>848835</td>\n",
       "      <td>848835.000000</td>\n",
       "      <td>848835.000000</td>\n",
       "      <td>848835</td>\n",
       "      <td>848835.000000</td>\n",
       "    </tr>\n",
       "    <tr>\n",
       "      <th>unique</th>\n",
       "      <td>NaN</td>\n",
       "      <td>13059</td>\n",
       "      <td>NaN</td>\n",
       "      <td>NaN</td>\n",
       "      <td>8</td>\n",
       "      <td>NaN</td>\n",
       "    </tr>\n",
       "    <tr>\n",
       "      <th>top</th>\n",
       "      <td>NaN</td>\n",
       "      <td>1991-04-01 00:00:00</td>\n",
       "      <td>NaN</td>\n",
       "      <td>NaN</td>\n",
       "      <td>EB</td>\n",
       "      <td>NaN</td>\n",
       "    </tr>\n",
       "    <tr>\n",
       "      <th>freq</th>\n",
       "      <td>NaN</td>\n",
       "      <td>65</td>\n",
       "      <td>NaN</td>\n",
       "      <td>NaN</td>\n",
       "      <td>156708</td>\n",
       "      <td>NaN</td>\n",
       "    </tr>\n",
       "    <tr>\n",
       "      <th>mean</th>\n",
       "      <td>424417.000000</td>\n",
       "      <td>NaN</td>\n",
       "      <td>1.138462</td>\n",
       "      <td>1.630769</td>\n",
       "      <td>NaN</td>\n",
       "      <td>47.815305</td>\n",
       "    </tr>\n",
       "    <tr>\n",
       "      <th>std</th>\n",
       "      <td>245037.702211</td>\n",
       "      <td>NaN</td>\n",
       "      <td>0.801478</td>\n",
       "      <td>1.089379</td>\n",
       "      <td>NaN</td>\n",
       "      <td>16.799392</td>\n",
       "    </tr>\n",
       "    <tr>\n",
       "      <th>min</th>\n",
       "      <td>0.000000</td>\n",
       "      <td>NaN</td>\n",
       "      <td>0.000000</td>\n",
       "      <td>0.000000</td>\n",
       "      <td>NaN</td>\n",
       "      <td>0.000000</td>\n",
       "    </tr>\n",
       "    <tr>\n",
       "      <th>25%</th>\n",
       "      <td>212208.500000</td>\n",
       "      <td>NaN</td>\n",
       "      <td>0.000000</td>\n",
       "      <td>1.000000</td>\n",
       "      <td>NaN</td>\n",
       "      <td>35.000000</td>\n",
       "    </tr>\n",
       "    <tr>\n",
       "      <th>50%</th>\n",
       "      <td>424417.000000</td>\n",
       "      <td>NaN</td>\n",
       "      <td>1.000000</td>\n",
       "      <td>2.000000</td>\n",
       "      <td>NaN</td>\n",
       "      <td>47.000000</td>\n",
       "    </tr>\n",
       "    <tr>\n",
       "      <th>75%</th>\n",
       "      <td>636625.500000</td>\n",
       "      <td>NaN</td>\n",
       "      <td>2.000000</td>\n",
       "      <td>3.000000</td>\n",
       "      <td>NaN</td>\n",
       "      <td>60.000000</td>\n",
       "    </tr>\n",
       "    <tr>\n",
       "      <th>max</th>\n",
       "      <td>848834.000000</td>\n",
       "      <td>NaN</td>\n",
       "      <td>2.000000</td>\n",
       "      <td>3.000000</td>\n",
       "      <td>NaN</td>\n",
       "      <td>100.000000</td>\n",
       "    </tr>\n",
       "  </tbody>\n",
       "</table>\n",
       "</div>"
      ],
      "text/plain": [
       "               row_id                 time              x              y  \\\n",
       "count   848835.000000               848835  848835.000000  848835.000000   \n",
       "unique            NaN                13059            NaN            NaN   \n",
       "top               NaN  1991-04-01 00:00:00            NaN            NaN   \n",
       "freq              NaN                   65            NaN            NaN   \n",
       "mean    424417.000000                  NaN       1.138462       1.630769   \n",
       "std     245037.702211                  NaN       0.801478       1.089379   \n",
       "min          0.000000                  NaN       0.000000       0.000000   \n",
       "25%     212208.500000                  NaN       0.000000       1.000000   \n",
       "50%     424417.000000                  NaN       1.000000       2.000000   \n",
       "75%     636625.500000                  NaN       2.000000       3.000000   \n",
       "max     848834.000000                  NaN       2.000000       3.000000   \n",
       "\n",
       "       direction     congestion  \n",
       "count     848835  848835.000000  \n",
       "unique         8            NaN  \n",
       "top           EB            NaN  \n",
       "freq      156708            NaN  \n",
       "mean         NaN      47.815305  \n",
       "std          NaN      16.799392  \n",
       "min          NaN       0.000000  \n",
       "25%          NaN      35.000000  \n",
       "50%          NaN      47.000000  \n",
       "75%          NaN      60.000000  \n",
       "max          NaN     100.000000  "
      ]
     },
     "execution_count": 281,
     "metadata": {},
     "output_type": "execute_result"
    }
   ],
   "source": [
    "df.describe(include='all')"
   ]
  },
  {
   "cell_type": "code",
   "execution_count": 282,
   "metadata": {},
   "outputs": [
    {
     "data": {
      "text/plain": [
       "row_id        0\n",
       "time          0\n",
       "x             0\n",
       "y             0\n",
       "direction     0\n",
       "congestion    0\n",
       "dtype: int64"
      ]
     },
     "execution_count": 282,
     "metadata": {},
     "output_type": "execute_result"
    }
   ],
   "source": [
    "df.isnull().sum()"
   ]
  },
  {
   "cell_type": "code",
   "execution_count": null,
   "metadata": {},
   "outputs": [],
   "source": [
    "df['year'] = df['time'].apply(lambda row: row[:4])\n",
    "df['month'] = df['time'].apply(lambda row: row.split('-')[1][:2] )\n",
    "df['date'] = df['time'].apply(lambda row: row.split('-')[2][:2] )\n",
    "df['hour'] = df['time'].apply(lambda row: row.split(':')[0][-2:] )\n",
    "df['mins'] = df['time'].apply(lambda row: row.split(':')[1] )"
   ]
  },
  {
   "cell_type": "code",
   "execution_count": 308,
   "metadata": {},
   "outputs": [
    {
     "data": {
      "text/plain": [
       "str"
      ]
     },
     "execution_count": 308,
     "metadata": {},
     "output_type": "execute_result"
    }
   ],
   "source": [
    "type(df['time'][0])"
   ]
  },
  {
   "cell_type": "code",
   "execution_count": 284,
   "metadata": {},
   "outputs": [],
   "source": [
    "#df.drop('time', axis=1, inplace=True)"
   ]
  },
  {
   "cell_type": "code",
   "execution_count": 305,
   "metadata": {},
   "outputs": [
    {
     "data": {
      "text/html": [
       "<div>\n",
       "<style scoped>\n",
       "    .dataframe tbody tr th:only-of-type {\n",
       "        vertical-align: middle;\n",
       "    }\n",
       "\n",
       "    .dataframe tbody tr th {\n",
       "        vertical-align: top;\n",
       "    }\n",
       "\n",
       "    .dataframe thead th {\n",
       "        text-align: right;\n",
       "    }\n",
       "</style>\n",
       "<table border=\"1\" class=\"dataframe\">\n",
       "  <thead>\n",
       "    <tr style=\"text-align: right;\">\n",
       "      <th></th>\n",
       "      <th>row_id</th>\n",
       "      <th>time</th>\n",
       "      <th>x</th>\n",
       "      <th>y</th>\n",
       "      <th>direction</th>\n",
       "      <th>congestion</th>\n",
       "      <th>year</th>\n",
       "      <th>month</th>\n",
       "      <th>date</th>\n",
       "      <th>hour</th>\n",
       "      <th>mins</th>\n",
       "      <th>dates</th>\n",
       "    </tr>\n",
       "  </thead>\n",
       "  <tbody>\n",
       "    <tr>\n",
       "      <th>0</th>\n",
       "      <td>0</td>\n",
       "      <td>1991-04-01 00:00:00</td>\n",
       "      <td>0</td>\n",
       "      <td>0</td>\n",
       "      <td>EB</td>\n",
       "      <td>70</td>\n",
       "      <td>1991</td>\n",
       "      <td>04</td>\n",
       "      <td>1991-04-01 00</td>\n",
       "      <td>00</td>\n",
       "      <td>00</td>\n",
       "      <td>1991-04-01</td>\n",
       "    </tr>\n",
       "    <tr>\n",
       "      <th>1</th>\n",
       "      <td>1</td>\n",
       "      <td>1991-04-01 00:00:00</td>\n",
       "      <td>0</td>\n",
       "      <td>0</td>\n",
       "      <td>NB</td>\n",
       "      <td>49</td>\n",
       "      <td>1991</td>\n",
       "      <td>04</td>\n",
       "      <td>1991-04-01 00</td>\n",
       "      <td>00</td>\n",
       "      <td>00</td>\n",
       "      <td>1991-04-01</td>\n",
       "    </tr>\n",
       "    <tr>\n",
       "      <th>2</th>\n",
       "      <td>2</td>\n",
       "      <td>1991-04-01 00:00:00</td>\n",
       "      <td>0</td>\n",
       "      <td>0</td>\n",
       "      <td>SB</td>\n",
       "      <td>24</td>\n",
       "      <td>1991</td>\n",
       "      <td>04</td>\n",
       "      <td>1991-04-01 00</td>\n",
       "      <td>00</td>\n",
       "      <td>00</td>\n",
       "      <td>1991-04-01</td>\n",
       "    </tr>\n",
       "    <tr>\n",
       "      <th>3</th>\n",
       "      <td>3</td>\n",
       "      <td>1991-04-01 00:00:00</td>\n",
       "      <td>0</td>\n",
       "      <td>1</td>\n",
       "      <td>EB</td>\n",
       "      <td>18</td>\n",
       "      <td>1991</td>\n",
       "      <td>04</td>\n",
       "      <td>1991-04-01 00</td>\n",
       "      <td>00</td>\n",
       "      <td>00</td>\n",
       "      <td>1991-04-01</td>\n",
       "    </tr>\n",
       "    <tr>\n",
       "      <th>4</th>\n",
       "      <td>4</td>\n",
       "      <td>1991-04-01 00:00:00</td>\n",
       "      <td>0</td>\n",
       "      <td>1</td>\n",
       "      <td>NB</td>\n",
       "      <td>60</td>\n",
       "      <td>1991</td>\n",
       "      <td>04</td>\n",
       "      <td>1991-04-01 00</td>\n",
       "      <td>00</td>\n",
       "      <td>00</td>\n",
       "      <td>1991-04-01</td>\n",
       "    </tr>\n",
       "    <tr>\n",
       "      <th>...</th>\n",
       "      <td>...</td>\n",
       "      <td>...</td>\n",
       "      <td>...</td>\n",
       "      <td>...</td>\n",
       "      <td>...</td>\n",
       "      <td>...</td>\n",
       "      <td>...</td>\n",
       "      <td>...</td>\n",
       "      <td>...</td>\n",
       "      <td>...</td>\n",
       "      <td>...</td>\n",
       "      <td>...</td>\n",
       "    </tr>\n",
       "    <tr>\n",
       "      <th>848830</th>\n",
       "      <td>848830</td>\n",
       "      <td>1991-09-30 11:40:00</td>\n",
       "      <td>2</td>\n",
       "      <td>3</td>\n",
       "      <td>NB</td>\n",
       "      <td>54</td>\n",
       "      <td>1991</td>\n",
       "      <td>09</td>\n",
       "      <td>1991-09-30 11</td>\n",
       "      <td>11</td>\n",
       "      <td>40</td>\n",
       "      <td>1991-09-30</td>\n",
       "    </tr>\n",
       "    <tr>\n",
       "      <th>848831</th>\n",
       "      <td>848831</td>\n",
       "      <td>1991-09-30 11:40:00</td>\n",
       "      <td>2</td>\n",
       "      <td>3</td>\n",
       "      <td>NE</td>\n",
       "      <td>28</td>\n",
       "      <td>1991</td>\n",
       "      <td>09</td>\n",
       "      <td>1991-09-30 11</td>\n",
       "      <td>11</td>\n",
       "      <td>40</td>\n",
       "      <td>1991-09-30</td>\n",
       "    </tr>\n",
       "    <tr>\n",
       "      <th>848832</th>\n",
       "      <td>848832</td>\n",
       "      <td>1991-09-30 11:40:00</td>\n",
       "      <td>2</td>\n",
       "      <td>3</td>\n",
       "      <td>SB</td>\n",
       "      <td>68</td>\n",
       "      <td>1991</td>\n",
       "      <td>09</td>\n",
       "      <td>1991-09-30 11</td>\n",
       "      <td>11</td>\n",
       "      <td>40</td>\n",
       "      <td>1991-09-30</td>\n",
       "    </tr>\n",
       "    <tr>\n",
       "      <th>848833</th>\n",
       "      <td>848833</td>\n",
       "      <td>1991-09-30 11:40:00</td>\n",
       "      <td>2</td>\n",
       "      <td>3</td>\n",
       "      <td>SW</td>\n",
       "      <td>17</td>\n",
       "      <td>1991</td>\n",
       "      <td>09</td>\n",
       "      <td>1991-09-30 11</td>\n",
       "      <td>11</td>\n",
       "      <td>40</td>\n",
       "      <td>1991-09-30</td>\n",
       "    </tr>\n",
       "    <tr>\n",
       "      <th>848834</th>\n",
       "      <td>848834</td>\n",
       "      <td>1991-09-30 11:40:00</td>\n",
       "      <td>2</td>\n",
       "      <td>3</td>\n",
       "      <td>WB</td>\n",
       "      <td>24</td>\n",
       "      <td>1991</td>\n",
       "      <td>09</td>\n",
       "      <td>1991-09-30 11</td>\n",
       "      <td>11</td>\n",
       "      <td>40</td>\n",
       "      <td>1991-09-30</td>\n",
       "    </tr>\n",
       "  </tbody>\n",
       "</table>\n",
       "<p>848835 rows × 12 columns</p>\n",
       "</div>"
      ],
      "text/plain": [
       "        row_id                 time  x  y direction  congestion  year month  \\\n",
       "0            0  1991-04-01 00:00:00  0  0        EB          70  1991    04   \n",
       "1            1  1991-04-01 00:00:00  0  0        NB          49  1991    04   \n",
       "2            2  1991-04-01 00:00:00  0  0        SB          24  1991    04   \n",
       "3            3  1991-04-01 00:00:00  0  1        EB          18  1991    04   \n",
       "4            4  1991-04-01 00:00:00  0  1        NB          60  1991    04   \n",
       "...        ...                  ... .. ..       ...         ...   ...   ...   \n",
       "848830  848830  1991-09-30 11:40:00  2  3        NB          54  1991    09   \n",
       "848831  848831  1991-09-30 11:40:00  2  3        NE          28  1991    09   \n",
       "848832  848832  1991-09-30 11:40:00  2  3        SB          68  1991    09   \n",
       "848833  848833  1991-09-30 11:40:00  2  3        SW          17  1991    09   \n",
       "848834  848834  1991-09-30 11:40:00  2  3        WB          24  1991    09   \n",
       "\n",
       "                 date hour mins       dates  \n",
       "0       1991-04-01 00   00   00  1991-04-01  \n",
       "1       1991-04-01 00   00   00  1991-04-01  \n",
       "2       1991-04-01 00   00   00  1991-04-01  \n",
       "3       1991-04-01 00   00   00  1991-04-01  \n",
       "4       1991-04-01 00   00   00  1991-04-01  \n",
       "...               ...  ...  ...         ...  \n",
       "848830  1991-09-30 11   11   40  1991-09-30  \n",
       "848831  1991-09-30 11   11   40  1991-09-30  \n",
       "848832  1991-09-30 11   11   40  1991-09-30  \n",
       "848833  1991-09-30 11   11   40  1991-09-30  \n",
       "848834  1991-09-30 11   11   40  1991-09-30  \n",
       "\n",
       "[848835 rows x 12 columns]"
      ]
     },
     "execution_count": 305,
     "metadata": {},
     "output_type": "execute_result"
    }
   ],
   "source": [
    "df"
   ]
  },
  {
   "cell_type": "code",
   "execution_count": null,
   "metadata": {},
   "outputs": [],
   "source": []
  },
  {
   "cell_type": "code",
   "execution_count": 286,
   "metadata": {},
   "outputs": [
    {
     "data": {
      "text/plain": [
       "34    26498\n",
       "40    19797\n",
       "47    19418\n",
       "29    19236\n",
       "48    19013\n",
       "      ...  \n",
       "95      140\n",
       "97      104\n",
       "98       87\n",
       "1        48\n",
       "99       42\n",
       "Name: congestion, Length: 101, dtype: int64"
      ]
     },
     "execution_count": 286,
     "metadata": {},
     "output_type": "execute_result"
    }
   ],
   "source": [
    "df.congestion.value_counts()"
   ]
  },
  {
   "cell_type": "code",
   "execution_count": 287,
   "metadata": {},
   "outputs": [
    {
     "data": {
      "text/plain": [
       "EB    156708\n",
       "NB    156708\n",
       "SB    156708\n",
       "WB    143649\n",
       "NE     91413\n",
       "SW     91413\n",
       "NW     26118\n",
       "SE     26118\n",
       "Name: direction, dtype: int64"
      ]
     },
     "execution_count": 287,
     "metadata": {},
     "output_type": "execute_result"
    }
   ],
   "source": [
    "df.direction.value_counts()"
   ]
  },
  {
   "cell_type": "code",
   "execution_count": 288,
   "metadata": {},
   "outputs": [],
   "source": [
    "# def make_hist(x):\n",
    "#     data = df[df['x'] == x ]\n",
    "#     f, ax = plt.subplots(figsize=(17, 5))\n",
    "#     ax = sns.histplot(data['congestion'], kde=True)\n",
    "#     ax.set_title(f'Plot show the distribution of data at x = {x}')\n",
    "#     plt.show()"
   ]
  },
  {
   "cell_type": "code",
   "execution_count": 289,
   "metadata": {},
   "outputs": [
    {
     "data": {
      "text/plain": [
       "<AxesSubplot:xlabel='direction', ylabel='congestion'>"
      ]
     },
     "execution_count": 289,
     "metadata": {},
     "output_type": "execute_result"
    },
    {
     "data": {
      "image/png": "[encoded data removed]",
      "text/plain": [
       "<Figure size 432x288 with 1 Axes>"
      ]
     },
     "metadata": {},
     "output_type": "display_data"
    }
   ],
   "source": [
    "sns.set_style('darkgrid')\n",
    "sns.barplot(x ='direction', y ='congestion', data = df, palette ='plasma')"
   ]
  }
 ],
 "metadata": {
  "kernelspec": {
   "display_name": "Python 3",
   "language": "python",
   "name": "python3"
  },
  "language_info": {
   "codemirror_mode": {
    "name": "ipython",
    "version": 3
   },
   "file_extension": ".py",
   "mimetype": "text/x-python",
   "name": "python",
   "nbconvert_exporter": "python",
   "pygments_lexer": "ipython3",
   "version": "3.7.11"
  }
 },
 "nbformat": 4,
 "nbformat_minor": 0
}
