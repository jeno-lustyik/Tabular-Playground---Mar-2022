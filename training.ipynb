{
 "cells": [
  {
   "cell_type": "code",
   "execution_count": 1,
   "metadata": {},
   "outputs": [],
   "source": [
    "import pandas as pd\n",
    "import numpy as np\n",
    "from sklearn.preprocessing import OrdinalEncoder\n",
    "from numpy import asarray"
   ]
  },
  {
   "cell_type": "code",
   "execution_count": 2,
   "metadata": {},
   "outputs": [
    {
     "data": {
      "text/plain": "   row_id                 time  x  y direction  congestion\n0       0  1991-04-01 00:00:00  0  0        EB          70\n1       1  1991-04-01 00:00:00  0  0        NB          49\n2       2  1991-04-01 00:00:00  0  0        SB          24\n3       3  1991-04-01 00:00:00  0  1        EB          18\n4       4  1991-04-01 00:00:00  0  1        NB          60",
      "text/html": "<div>\n<style scoped>\n    .dataframe tbody tr th:only-of-type {\n        vertical-align: middle;\n    }\n\n    .dataframe tbody tr th {\n        vertical-align: top;\n    }\n\n    .dataframe thead th {\n        text-align: right;\n    }\n</style>\n<table border=\"1\" class=\"dataframe\">\n  <thead>\n    <tr style=\"text-align: right;\">\n      <th></th>\n      <th>row_id</th>\n      <th>time</th>\n      <th>x</th>\n      <th>y</th>\n      <th>direction</th>\n      <th>congestion</th>\n    </tr>\n  </thead>\n  <tbody>\n    <tr>\n      <th>0</th>\n      <td>0</td>\n      <td>1991-04-01 00:00:00</td>\n      <td>0</td>\n      <td>0</td>\n      <td>EB</td>\n      <td>70</td>\n    </tr>\n    <tr>\n      <th>1</th>\n      <td>1</td>\n      <td>1991-04-01 00:00:00</td>\n      <td>0</td>\n      <td>0</td>\n      <td>NB</td>\n      <td>49</td>\n    </tr>\n    <tr>\n      <th>2</th>\n      <td>2</td>\n      <td>1991-04-01 00:00:00</td>\n      <td>0</td>\n      <td>0</td>\n      <td>SB</td>\n      <td>24</td>\n    </tr>\n    <tr>\n      <th>3</th>\n      <td>3</td>\n      <td>1991-04-01 00:00:00</td>\n      <td>0</td>\n      <td>1</td>\n      <td>EB</td>\n      <td>18</td>\n    </tr>\n    <tr>\n      <th>4</th>\n      <td>4</td>\n      <td>1991-04-01 00:00:00</td>\n      <td>0</td>\n      <td>1</td>\n      <td>NB</td>\n      <td>60</td>\n    </tr>\n  </tbody>\n</table>\n</div>"
     },
     "execution_count": 2,
     "metadata": {},
     "output_type": "execute_result"
    }
   ],
   "source": [
    "df_trg = pd.read_csv('training.csv')\n",
    "df_trg.head()"
   ]
  },
  {
   "cell_type": "code",
   "execution_count": 3,
   "metadata": {},
   "outputs": [
    {
     "data": {
      "text/plain": "str"
     },
     "execution_count": 3,
     "metadata": {},
     "output_type": "execute_result"
    }
   ],
   "source": [
    "type(df_trg.time[0])"
   ]
  },
  {
   "cell_type": "code",
   "execution_count": 4,
   "metadata": {},
   "outputs": [],
   "source": [
    "route_train = df_trg['x'].astype(str) + df_trg['y'].astype(str) + df_trg['direction']\n",
    "df_trg.insert(2, 'route', route_train )"
   ]
  },
  {
   "cell_type": "code",
   "execution_count": 5,
   "metadata": {},
   "outputs": [],
   "source": [
    "df_trg = df_trg.drop(['time', 'x', 'y', 'direction', 'row_id'], axis = 1)"
   ]
  },
  {
   "cell_type": "code",
   "execution_count": 6,
   "metadata": {},
   "outputs": [
    {
     "data": {
      "text/plain": "  route  congestion\n0  00EB          70\n1  00NB          49\n2  00SB          24\n3  01EB          18\n4  01NB          60",
      "text/html": "<div>\n<style scoped>\n    .dataframe tbody tr th:only-of-type {\n        vertical-align: middle;\n    }\n\n    .dataframe tbody tr th {\n        vertical-align: top;\n    }\n\n    .dataframe thead th {\n        text-align: right;\n    }\n</style>\n<table border=\"1\" class=\"dataframe\">\n  <thead>\n    <tr style=\"text-align: right;\">\n      <th></th>\n      <th>route</th>\n      <th>congestion</th>\n    </tr>\n  </thead>\n  <tbody>\n    <tr>\n      <th>0</th>\n      <td>00EB</td>\n      <td>70</td>\n    </tr>\n    <tr>\n      <th>1</th>\n      <td>00NB</td>\n      <td>49</td>\n    </tr>\n    <tr>\n      <th>2</th>\n      <td>00SB</td>\n      <td>24</td>\n    </tr>\n    <tr>\n      <th>3</th>\n      <td>01EB</td>\n      <td>18</td>\n    </tr>\n    <tr>\n      <th>4</th>\n      <td>01NB</td>\n      <td>60</td>\n    </tr>\n  </tbody>\n</table>\n</div>"
     },
     "execution_count": 6,
     "metadata": {},
     "output_type": "execute_result"
    }
   ],
   "source": [
    "df_trg.head()"
   ]
  },
  {
   "cell_type": "code",
   "execution_count": 7,
   "metadata": {},
   "outputs": [
    {
     "data": {
      "text/plain": "array(['00EB', '00NB', '00SB', ..., '21NW', '21SB', '21SE'], dtype=object)"
     },
     "execution_count": 7,
     "metadata": {},
     "output_type": "execute_result"
    }
   ],
   "source": [
    "ct = asarray(df_trg['route'])\n",
    "ct"
   ]
  },
  {
   "cell_type": "code",
   "execution_count": 8,
   "metadata": {},
   "outputs": [],
   "source": [
    "oe = OrdinalEncoder()\n",
    "df_trg['route'] = oe.fit_transform(ct.reshape(-1,1))"
   ]
  },
  {
   "cell_type": "code",
   "execution_count": 9,
   "metadata": {},
   "outputs": [],
   "source": [
    "def pairing(df_tr, seq_len=195):\n",
    "\n",
    "    x = []\n",
    "    y = []\n",
    "\n",
    "    for i in range(0,(df_tr.shape[0] - seq_len+1), seq_len+1 ): # range is reduced by the len of seq + 1 so that we do not go out of bounds\n",
    "                                                            # we step for that same amount of steps as the seq_len\n",
    "        seq = np.zeros( (seq_len, df_tr.shape[1]) ) #creating a matrix of zeros with the shape of seq_len and the number of columns of the data\n",
    "        \n",
    "        for j in range(seq_len):  # filling the matrix with the data\n",
    "\n",
    "            seq[j] = df_tr.values[i+j]  # filling the matrix with the data we add i to make the jump of the seq_len\n",
    "\n",
    "        x.append(seq.flatten())  # flattening the matrix and appending it to the x list\n",
    "        y.append( df_tr[\"congestion\"][i+seq_len] )  # appending the target to the y list \n",
    "\n",
    "    return np.array(x), np.array(y)\n",
    "\n",
    "#print(data.shape)\n",
    "\n",
    "x, y = pairing(df_trg)"
   ]
  },
  {
   "cell_type": "code",
   "execution_count": 10,
   "metadata": {},
   "outputs": [],
   "source": [
    "xtr =x\n",
    "ytr = y"
   ]
  },
  {
   "cell_type": "code",
   "execution_count": 11,
   "metadata": {},
   "outputs": [
    {
     "data": {
      "text/plain": "array([[ 0., 70.,  1., ..., 29., 64., 48.],\n       [ 1., 49.,  2., ..., 44.,  0., 70.],\n       [ 2., 65.,  3., ..., 70.,  1., 49.],\n       ...,\n       [ 3., 27.,  4., ..., 39.,  2., 33.],\n       [ 4., 64.,  5., ..., 33.,  3., 24.],\n       [ 5., 53.,  6., ..., 18.,  4., 69.]])"
     },
     "execution_count": 11,
     "metadata": {},
     "output_type": "execute_result"
    }
   ],
   "source": [
    "xtr"
   ]
  },
  {
   "cell_type": "code",
   "execution_count": 12,
   "metadata": {},
   "outputs": [
    {
     "data": {
      "text/plain": "(3061, 390)"
     },
     "execution_count": 12,
     "metadata": {},
     "output_type": "execute_result"
    }
   ],
   "source": [
    "x.shape"
   ]
  },
  {
   "cell_type": "code",
   "execution_count": 13,
   "metadata": {},
   "outputs": [
    {
     "data": {
      "text/plain": "(3061,)"
     },
     "execution_count": 13,
     "metadata": {},
     "output_type": "execute_result"
    }
   ],
   "source": [
    "ytr.shape"
   ]
  },
  {
   "cell_type": "code",
   "execution_count": 14,
   "metadata": {},
   "outputs": [],
   "source": [
    "from sklearn.model_selection import TimeSeriesSplit\n",
    "tscv = TimeSeriesSplit(test_size=2)\n",
    "for train_index, test_index in tscv.split(x):\n",
    "    x_train, x_val = x[train_index], x[test_index]\n",
    "    y_train, y_val = y[train_index], y[test_index]"
   ]
  },
  {
   "cell_type": "code",
   "execution_count": 15,
   "metadata": {},
   "outputs": [
    {
     "data": {
      "text/plain": "(3059, 390)"
     },
     "execution_count": 15,
     "metadata": {},
     "output_type": "execute_result"
    }
   ],
   "source": [
    "x_train.shape"
   ]
  },
  {
   "cell_type": "code",
   "execution_count": 16,
   "metadata": {},
   "outputs": [
    {
     "data": {
      "text/plain": "(2, 390)"
     },
     "execution_count": 16,
     "metadata": {},
     "output_type": "execute_result"
    }
   ],
   "source": [
    "x_val.shape"
   ]
  },
  {
   "cell_type": "code",
   "execution_count": 17,
   "metadata": {},
   "outputs": [
    {
     "data": {
      "text/plain": "(3059,)"
     },
     "execution_count": 17,
     "metadata": {},
     "output_type": "execute_result"
    }
   ],
   "source": [
    "y_train.shape"
   ]
  },
  {
   "cell_type": "code",
   "execution_count": 18,
   "metadata": {},
   "outputs": [
    {
     "data": {
      "text/plain": "(2,)"
     },
     "execution_count": 18,
     "metadata": {},
     "output_type": "execute_result"
    }
   ],
   "source": [
    "y_val.shape"
   ]
  },
  {
   "cell_type": "code",
   "execution_count": 19,
   "metadata": {},
   "outputs": [],
   "source": [
    "from os import pardir\n",
    "import pandas as pd\n",
    "import numpy as np\n",
    "\n",
    "from sklearn.tree          import DecisionTreeRegressor\n",
    "from sklearn.ensemble      import RandomForestRegressor\n",
    "from sklearn.ensemble      import ExtraTreesRegressor\n",
    "from sklearn.ensemble      import AdaBoostRegressor\n",
    "from sklearn.ensemble      import GradientBoostingRegressor\n",
    "from xgboost               import XGBRegressor\n",
    "from lightgbm              import LGBMRegressor\n",
    "from catboost              import CatBoostRegressor\n",
    "from sklearn.linear_model  import LinearRegression\n",
    "from sklearn.svm           import SVR\n",
    "from sklearn import metrics \n",
    "from sklearn.preprocessing import StandardScaler\n",
    "import time"
   ]
  },
  {
   "cell_type": "code",
   "execution_count": 20,
   "metadata": {},
   "outputs": [],
   "source": [
    "sc = StandardScaler()\n",
    "x_train = sc.fit_transform(x_train)\n",
    "x_val = sc.transform(x_val)"
   ]
  },
  {
   "cell_type": "code",
   "execution_count": 21,
   "metadata": {},
   "outputs": [],
   "source": [
    "regressors = {\n",
    "   \"Decision Tree\": DecisionTreeRegressor(),\n",
    "   \"Extra Trees\":   ExtraTreesRegressor(n_estimators=100),\n",
    "   \"Random Forest\": RandomForestRegressor(n_estimators=100),\n",
    "   \"AdaBoost\":      AdaBoostRegressor(n_estimators=100),\n",
    "   \"Skl GBM\":       GradientBoostingRegressor(n_estimators=100),\n",
    "   \"XGBoost\":       XGBRegressor(n_estimators=100),\n",
    "   \"LightGBM\":      LGBMRegressor(n_estimators=100),\n",
    "   \"CatBoost\":      CatBoostRegressor(n_estimators=100),\n",
    "  'Linear Regression' : LinearRegression(),\n",
    "  'svr'              :  SVR()\n",
    "}"
   ]
  },
  {
   "cell_type": "code",
   "execution_count": 22,
   "metadata": {},
   "outputs": [],
   "source": [
    "from sklearn import model_selection \n",
    "from sklearn import metrics\n"
   ]
  },
  {
   "cell_type": "code",
   "execution_count": 23,
   "metadata": {},
   "outputs": [
    {
     "data": {
      "text/plain": "GridSearchCV(estimator=SVR(),\n             param_grid={'C': [1, 50], 'degree': [3, 6],\n                         'gamma': ('scale', 'auto'),\n                         'kernel': ('linear', 'rbf', 'poly', 'sigmoid')})"
     },
     "execution_count": 23,
     "metadata": {},
     "output_type": "execute_result"
    }
   ],
   "source": [
    "from sklearn.model_selection import GridSearchCV\n",
    "svr = SVR()\n",
    "params = {'C' : [1,50], 'kernel' : ('linear', 'rbf', 'poly', 'sigmoid'), 'degree' : [3, 6], 'gamma' : ('scale','auto')}\n",
    "grid_clf = GridSearchCV(svr, params)\n",
    "\n",
    "grid_clf.fit(x_train, y_train)\n"
   ]
  },
  {
   "cell_type": "code",
   "execution_count": 24,
   "metadata": {},
   "outputs": [],
   "source": [
    "# skf = model_selection.StratifiedKFold(\n",
    "#     n_splits= 5, shuffle=True, random_state=0\n",
    "# )\n",
    "\n",
    "\n",
    "\n",
    "\n",
    "# results = pd.DataFrame({'Model': [], 'MSE': [], 'MAE': [], \" % error\": [], 'Time': []})\n",
    "\n",
    "# rang = abs(y_train.max()) - abs(y_train.min())\n",
    "\n",
    "# for model_name, model in regressors.items():\n",
    "#     start_time = time.time()\n",
    "   \n",
    "        \n",
    "#     # TRAIN AND GET PREDICTIONS USING cross_val_predict() and x,y\n",
    "#     pred = model_selection.cross_val_predict(model, xtr, ytr, cv = skf)\n",
    "\n",
    "#     total_time = time.time() - start_time\n",
    "\n",
    "#     results = results.append({\"Model\":    model_name,\n",
    "#                               \"MSE\": metrics.mean_squared_error(y, pred),\n",
    "#                               \"MAE\": metrics.mean_absolute_error(y, pred),\n",
    "#                               \" % error\": metrics.mean_squared_error(y, pred) / rang,\n",
    "#                               \"Time\":     total_time},\n",
    "#                               ignore_index=True)\n",
    "                              \n",
    "                              \n",
    "\n",
    "\n",
    "\n",
    "# results_ord = results.sort_values(by=['MSE'], ascending=True, ignore_index=True)\n",
    "# results_ord.index += 1 \n",
    "# results_ord.style.bar(subset=['MSE', 'MAE'], vmin=0, vmax=100, color='#5fba7d')\n",
    "\n",
    "\n"
   ]
  },
  {
   "cell_type": "code",
   "execution_count": 25,
   "metadata": {},
   "outputs": [
    {
     "name": "stdout",
     "output_type": "stream",
     "text": [
      "Learning rate set to 0.274053\n",
      "0:\tlearn: 14.2733050\ttotal: 237ms\tremaining: 23.4s\n",
      "1:\tlearn: 12.5551652\ttotal: 244ms\tremaining: 12s\n",
      "2:\tlearn: 11.3560228\ttotal: 252ms\tremaining: 8.14s\n",
      "3:\tlearn: 10.4738558\ttotal: 259ms\tremaining: 6.21s\n",
      "4:\tlearn: 10.0449811\ttotal: 266ms\tremaining: 5.05s\n",
      "5:\tlearn: 9.7189101\ttotal: 273ms\tremaining: 4.27s\n",
      "6:\tlearn: 9.4265781\ttotal: 280ms\tremaining: 3.72s\n",
      "7:\tlearn: 9.2507650\ttotal: 287ms\tremaining: 3.3s\n",
      "8:\tlearn: 9.1243206\ttotal: 293ms\tremaining: 2.96s\n",
      "9:\tlearn: 8.9951760\ttotal: 323ms\tremaining: 2.9s\n",
      "10:\tlearn: 8.9121398\ttotal: 329ms\tremaining: 2.67s\n",
      "11:\tlearn: 8.8511101\ttotal: 336ms\tremaining: 2.47s\n",
      "12:\tlearn: 8.8410738\ttotal: 343ms\tremaining: 2.29s\n",
      "13:\tlearn: 8.7718677\ttotal: 350ms\tremaining: 2.15s\n",
      "14:\tlearn: 8.7293444\ttotal: 356ms\tremaining: 2.02s\n",
      "15:\tlearn: 8.6791272\ttotal: 363ms\tremaining: 1.91s\n",
      "16:\tlearn: 8.6363450\ttotal: 370ms\tremaining: 1.8s\n",
      "17:\tlearn: 8.5885140\ttotal: 377ms\tremaining: 1.72s\n",
      "18:\tlearn: 8.5648246\ttotal: 384ms\tremaining: 1.64s\n",
      "19:\tlearn: 8.5192198\ttotal: 390ms\tremaining: 1.56s\n",
      "20:\tlearn: 8.4963701\ttotal: 397ms\tremaining: 1.49s\n",
      "21:\tlearn: 8.4521222\ttotal: 403ms\tremaining: 1.43s\n",
      "22:\tlearn: 8.4254994\ttotal: 418ms\tremaining: 1.4s\n",
      "23:\tlearn: 8.3855142\ttotal: 426ms\tremaining: 1.35s\n",
      "24:\tlearn: 8.3345575\ttotal: 433ms\tremaining: 1.3s\n",
      "25:\tlearn: 8.3083060\ttotal: 439ms\tremaining: 1.25s\n",
      "26:\tlearn: 8.2835619\ttotal: 446ms\tremaining: 1.21s\n",
      "27:\tlearn: 8.2479354\ttotal: 453ms\tremaining: 1.17s\n",
      "28:\tlearn: 8.2360439\ttotal: 461ms\tremaining: 1.13s\n",
      "29:\tlearn: 8.1992824\ttotal: 468ms\tremaining: 1.09s\n",
      "30:\tlearn: 8.1763676\ttotal: 474ms\tremaining: 1.06s\n",
      "31:\tlearn: 8.1577348\ttotal: 481ms\tremaining: 1.02s\n",
      "32:\tlearn: 8.1496800\ttotal: 488ms\tremaining: 990ms\n",
      "33:\tlearn: 8.1013955\ttotal: 494ms\tremaining: 959ms\n",
      "34:\tlearn: 8.0227699\ttotal: 501ms\tremaining: 930ms\n",
      "35:\tlearn: 8.0093717\ttotal: 508ms\tremaining: 903ms\n",
      "36:\tlearn: 7.9378109\ttotal: 514ms\tremaining: 876ms\n",
      "37:\tlearn: 7.8882580\ttotal: 522ms\tremaining: 851ms\n",
      "38:\tlearn: 7.8452334\ttotal: 528ms\tremaining: 826ms\n",
      "39:\tlearn: 7.8346427\ttotal: 535ms\tremaining: 802ms\n",
      "40:\tlearn: 7.8149667\ttotal: 542ms\tremaining: 780ms\n",
      "41:\tlearn: 7.7716539\ttotal: 548ms\tremaining: 757ms\n",
      "42:\tlearn: 7.7291364\ttotal: 570ms\tremaining: 755ms\n",
      "43:\tlearn: 7.7225511\ttotal: 576ms\tremaining: 734ms\n",
      "44:\tlearn: 7.6905941\ttotal: 583ms\tremaining: 713ms\n",
      "45:\tlearn: 7.6465195\ttotal: 590ms\tremaining: 692ms\n",
      "46:\tlearn: 7.5752463\ttotal: 615ms\tremaining: 693ms\n",
      "47:\tlearn: 7.5381602\ttotal: 621ms\tremaining: 673ms\n",
      "48:\tlearn: 7.4976385\ttotal: 628ms\tremaining: 654ms\n",
      "49:\tlearn: 7.4823475\ttotal: 646ms\tremaining: 646ms\n",
      "50:\tlearn: 7.4024869\ttotal: 653ms\tremaining: 627ms\n",
      "51:\tlearn: 7.3639429\ttotal: 660ms\tremaining: 609ms\n",
      "52:\tlearn: 7.3150711\ttotal: 666ms\tremaining: 591ms\n",
      "53:\tlearn: 7.2720468\ttotal: 673ms\tremaining: 573ms\n",
      "54:\tlearn: 7.2626870\ttotal: 680ms\tremaining: 556ms\n",
      "55:\tlearn: 7.2270608\ttotal: 687ms\tremaining: 539ms\n",
      "56:\tlearn: 7.1895393\ttotal: 694ms\tremaining: 523ms\n",
      "57:\tlearn: 7.1826743\ttotal: 700ms\tremaining: 507ms\n",
      "58:\tlearn: 7.1734304\ttotal: 707ms\tremaining: 491ms\n",
      "59:\tlearn: 7.1419958\ttotal: 714ms\tremaining: 476ms\n",
      "60:\tlearn: 7.1009681\ttotal: 721ms\tremaining: 461ms\n",
      "61:\tlearn: 7.0303630\ttotal: 752ms\tremaining: 461ms\n",
      "62:\tlearn: 6.9577295\ttotal: 759ms\tremaining: 446ms\n",
      "63:\tlearn: 6.9196380\ttotal: 766ms\tremaining: 431ms\n",
      "64:\tlearn: 6.8908656\ttotal: 773ms\tremaining: 416ms\n",
      "65:\tlearn: 6.8767242\ttotal: 780ms\tremaining: 402ms\n",
      "66:\tlearn: 6.8502097\ttotal: 786ms\tremaining: 387ms\n",
      "67:\tlearn: 6.7919764\ttotal: 797ms\tremaining: 375ms\n",
      "68:\tlearn: 6.7264054\ttotal: 805ms\tremaining: 362ms\n",
      "69:\tlearn: 6.7188173\ttotal: 812ms\tremaining: 348ms\n",
      "70:\tlearn: 6.6819363\ttotal: 818ms\tremaining: 334ms\n",
      "71:\tlearn: 6.6688307\ttotal: 825ms\tremaining: 321ms\n",
      "72:\tlearn: 6.6633191\ttotal: 832ms\tremaining: 308ms\n",
      "73:\tlearn: 6.6387620\ttotal: 839ms\tremaining: 295ms\n",
      "74:\tlearn: 6.6011941\ttotal: 846ms\tremaining: 282ms\n",
      "75:\tlearn: 6.5967872\ttotal: 852ms\tremaining: 269ms\n",
      "76:\tlearn: 6.5677178\ttotal: 859ms\tremaining: 256ms\n",
      "77:\tlearn: 6.5615067\ttotal: 865ms\tremaining: 244ms\n",
      "78:\tlearn: 6.5287558\ttotal: 872ms\tremaining: 232ms\n",
      "79:\tlearn: 6.5111304\ttotal: 905ms\tremaining: 226ms\n",
      "80:\tlearn: 6.4878339\ttotal: 912ms\tremaining: 214ms\n",
      "81:\tlearn: 6.4566431\ttotal: 919ms\tremaining: 202ms\n",
      "82:\tlearn: 6.4023188\ttotal: 925ms\tremaining: 190ms\n",
      "83:\tlearn: 6.3625564\ttotal: 932ms\tremaining: 178ms\n",
      "84:\tlearn: 6.3559632\ttotal: 939ms\tremaining: 166ms\n",
      "85:\tlearn: 6.3270417\ttotal: 973ms\tremaining: 158ms\n",
      "86:\tlearn: 6.3212882\ttotal: 979ms\tremaining: 146ms\n",
      "87:\tlearn: 6.2727831\ttotal: 986ms\tremaining: 134ms\n",
      "88:\tlearn: 6.2237455\ttotal: 993ms\tremaining: 123ms\n",
      "89:\tlearn: 6.1999823\ttotal: 1000ms\tremaining: 111ms\n",
      "90:\tlearn: 6.1736527\ttotal: 1.01s\tremaining: 99.6ms\n",
      "91:\tlearn: 6.1289292\ttotal: 1.01s\tremaining: 88.1ms\n",
      "92:\tlearn: 6.1033042\ttotal: 1.02s\tremaining: 76.9ms\n",
      "93:\tlearn: 6.0674431\ttotal: 1.03s\tremaining: 65.6ms\n",
      "94:\tlearn: 6.0328513\ttotal: 1.03s\tremaining: 54.5ms\n",
      "95:\tlearn: 5.9816326\ttotal: 1.06s\tremaining: 44.3ms\n",
      "96:\tlearn: 5.9491503\ttotal: 1.07s\tremaining: 33.1ms\n",
      "97:\tlearn: 5.9056222\ttotal: 1.08s\tremaining: 22ms\n",
      "98:\tlearn: 5.8857454\ttotal: 1.08s\tremaining: 10.9ms\n",
      "99:\tlearn: 5.8336644\ttotal: 1.09s\tremaining: 0us\n"
     ]
    },
    {
     "data": {
      "text/plain": "<pandas.io.formats.style.Styler at 0x1ac3aadd0d0>",
      "text/html": "<style  type=\"text/css\" >\n#T_dca37_row0_col1{\n            width:  10em;\n             height:  80%;\n            background:  linear-gradient(90deg,#5fba7d 13.0%, transparent 13.0%);\n        }#T_dca37_row0_col2{\n            width:  10em;\n             height:  80%;\n            background:  linear-gradient(90deg,#5fba7d 3.0%, transparent 3.0%);\n        }#T_dca37_row1_col1{\n            width:  10em;\n             height:  80%;\n            background:  linear-gradient(90deg,#5fba7d 39.7%, transparent 39.7%);\n        }#T_dca37_row1_col2{\n            width:  10em;\n             height:  80%;\n            background:  linear-gradient(90deg,#5fba7d 5.4%, transparent 5.4%);\n        }#T_dca37_row2_col1{\n            width:  10em;\n             height:  80%;\n            background:  linear-gradient(90deg,#5fba7d 61.9%, transparent 61.9%);\n        }#T_dca37_row2_col2{\n            width:  10em;\n             height:  80%;\n            background:  linear-gradient(90deg,#5fba7d 7.5%, transparent 7.5%);\n        }#T_dca37_row3_col1{\n            width:  10em;\n             height:  80%;\n            background:  linear-gradient(90deg,#5fba7d 69.8%, transparent 69.8%);\n        }#T_dca37_row3_col2,#T_dca37_row5_col2{\n            width:  10em;\n             height:  80%;\n            background:  linear-gradient(90deg,#5fba7d 8.3%, transparent 8.3%);\n        }#T_dca37_row4_col1{\n            width:  10em;\n             height:  80%;\n            background:  linear-gradient(90deg,#5fba7d 78.5%, transparent 78.5%);\n        }#T_dca37_row4_col2{\n            width:  10em;\n             height:  80%;\n            background:  linear-gradient(90deg,#5fba7d 7.8%, transparent 7.8%);\n        }#T_dca37_row5_col1{\n            width:  10em;\n             height:  80%;\n            background:  linear-gradient(90deg,#5fba7d 79.3%, transparent 79.3%);\n        }#T_dca37_row6_col1{\n            width:  10em;\n             height:  80%;\n            background:  linear-gradient(90deg,#5fba7d 82.1%, transparent 82.1%);\n        }#T_dca37_row6_col2{\n            width:  10em;\n             height:  80%;\n            background:  linear-gradient(90deg,#5fba7d 7.6%, transparent 7.6%);\n        }#T_dca37_row7_col1{\n            width:  10em;\n             height:  80%;\n            background:  linear-gradient(90deg,#5fba7d 87.5%, transparent 87.5%);\n        }#T_dca37_row7_col2{\n            width:  10em;\n             height:  80%;\n            background:  linear-gradient(90deg,#5fba7d 8.9%, transparent 8.9%);\n        }#T_dca37_row8_col1,#T_dca37_row9_col1{\n            width:  10em;\n             height:  80%;\n            background:  linear-gradient(90deg,#5fba7d 100.0%, transparent 100.0%);\n        }#T_dca37_row8_col2{\n            width:  10em;\n             height:  80%;\n            background:  linear-gradient(90deg,#5fba7d 7.3%, transparent 7.3%);\n        }#T_dca37_row9_col2{\n            width:  10em;\n             height:  80%;\n            background:  linear-gradient(90deg,#5fba7d 14.7%, transparent 14.7%);\n        }</style><table id=\"T_dca37_\" ><thead>    <tr>        <th class=\"blank level0\" ></th>        <th class=\"col_heading level0 col0\" >Model</th>        <th class=\"col_heading level0 col1\" >MSE</th>        <th class=\"col_heading level0 col2\" >MAE</th>        <th class=\"col_heading level0 col3\" > % error</th>        <th class=\"col_heading level0 col4\" >Time</th>    </tr></thead><tbody>\n                <tr>\n                        <th id=\"T_dca37_level0_row0\" class=\"row_heading level0 row0\" >1</th>\n                        <td id=\"T_dca37_row0_col0\" class=\"data row0 col0\" >Decision Tree</td>\n                        <td id=\"T_dca37_row0_col1\" class=\"data row0 col1\" >13.000000</td>\n                        <td id=\"T_dca37_row0_col2\" class=\"data row0 col2\" >3.000000</td>\n                        <td id=\"T_dca37_row0_col3\" class=\"data row0 col3\" >0.130000</td>\n                        <td id=\"T_dca37_row0_col4\" class=\"data row0 col4\" >0.646146</td>\n            </tr>\n            <tr>\n                        <th id=\"T_dca37_level0_row1\" class=\"row_heading level0 row1\" >2</th>\n                        <td id=\"T_dca37_row1_col0\" class=\"data row1 col0\" >Linear Regression</td>\n                        <td id=\"T_dca37_row1_col1\" class=\"data row1 col1\" >39.712673</td>\n                        <td id=\"T_dca37_row1_col2\" class=\"data row1 col2\" >5.380127</td>\n                        <td id=\"T_dca37_row1_col3\" class=\"data row1 col3\" >0.397127</td>\n                        <td id=\"T_dca37_row1_col4\" class=\"data row1 col4\" >0.084020</td>\n            </tr>\n            <tr>\n                        <th id=\"T_dca37_level0_row2\" class=\"row_heading level0 row2\" >3</th>\n                        <td id=\"T_dca37_row2_col0\" class=\"data row2 col0\" >svr</td>\n                        <td id=\"T_dca37_row2_col1\" class=\"data row2 col1\" >61.933931</td>\n                        <td id=\"T_dca37_row2_col2\" class=\"data row2 col2\" >7.458631</td>\n                        <td id=\"T_dca37_row2_col3\" class=\"data row2 col3\" >0.619339</td>\n                        <td id=\"T_dca37_row2_col4\" class=\"data row2 col4\" >0.980547</td>\n            </tr>\n            <tr>\n                        <th id=\"T_dca37_level0_row3\" class=\"row_heading level0 row3\" >4</th>\n                        <td id=\"T_dca37_row3_col0\" class=\"data row3 col0\" >CatBoost</td>\n                        <td id=\"T_dca37_row3_col1\" class=\"data row3 col1\" >69.751935</td>\n                        <td id=\"T_dca37_row3_col2\" class=\"data row3 col2\" >8.310648</td>\n                        <td id=\"T_dca37_row3_col3\" class=\"data row3 col3\" >0.697519</td>\n                        <td id=\"T_dca37_row3_col4\" class=\"data row3 col4\" >1.501643</td>\n            </tr>\n            <tr>\n                        <th id=\"T_dca37_level0_row4\" class=\"row_heading level0 row4\" >5</th>\n                        <td id=\"T_dca37_row4_col0\" class=\"data row4 col0\" >Extra Trees</td>\n                        <td id=\"T_dca37_row4_col1\" class=\"data row4 col1\" >78.480000</td>\n                        <td id=\"T_dca37_row4_col2\" class=\"data row4 col2\" >7.800000</td>\n                        <td id=\"T_dca37_row4_col3\" class=\"data row4 col3\" >0.784800</td>\n                        <td id=\"T_dca37_row4_col4\" class=\"data row4 col4\" >17.032653</td>\n            </tr>\n            <tr>\n                        <th id=\"T_dca37_level0_row5\" class=\"row_heading level0 row5\" >6</th>\n                        <td id=\"T_dca37_row5_col0\" class=\"data row5 col0\" >XGBoost</td>\n                        <td id=\"T_dca37_row5_col1\" class=\"data row5 col1\" >79.260309</td>\n                        <td id=\"T_dca37_row5_col2\" class=\"data row5 col2\" >8.303234</td>\n                        <td id=\"T_dca37_row5_col3\" class=\"data row5 col3\" >0.792603</td>\n                        <td id=\"T_dca37_row5_col4\" class=\"data row5 col4\" >0.523117</td>\n            </tr>\n            <tr>\n                        <th id=\"T_dca37_level0_row6\" class=\"row_heading level0 row6\" >7</th>\n                        <td id=\"T_dca37_row6_col0\" class=\"data row6 col0\" >Random Forest</td>\n                        <td id=\"T_dca37_row6_col1\" class=\"data row6 col1\" >82.128050</td>\n                        <td id=\"T_dca37_row6_col2\" class=\"data row6 col2\" >7.555000</td>\n                        <td id=\"T_dca37_row6_col3\" class=\"data row6 col3\" >0.821281</td>\n                        <td id=\"T_dca37_row6_col4\" class=\"data row6 col4\" >36.199370</td>\n            </tr>\n            <tr>\n                        <th id=\"T_dca37_level0_row7\" class=\"row_heading level0 row7\" >8</th>\n                        <td id=\"T_dca37_row7_col0\" class=\"data row7 col0\" >Skl GBM</td>\n                        <td id=\"T_dca37_row7_col1\" class=\"data row7 col1\" >87.502521</td>\n                        <td id=\"T_dca37_row7_col2\" class=\"data row7 col2\" >8.858633</td>\n                        <td id=\"T_dca37_row7_col3\" class=\"data row7 col3\" >0.875025</td>\n                        <td id=\"T_dca37_row7_col4\" class=\"data row7 col4\" >11.126508</td>\n            </tr>\n            <tr>\n                        <th id=\"T_dca37_level0_row8\" class=\"row_heading level0 row8\" >9</th>\n                        <td id=\"T_dca37_row8_col0\" class=\"data row8 col0\" >LightGBM</td>\n                        <td id=\"T_dca37_row8_col1\" class=\"data row8 col1\" >105.493323</td>\n                        <td id=\"T_dca37_row8_col2\" class=\"data row8 col2\" >7.298902</td>\n                        <td id=\"T_dca37_row8_col3\" class=\"data row8 col3\" >1.054933</td>\n                        <td id=\"T_dca37_row8_col4\" class=\"data row8 col4\" >0.348078</td>\n            </tr>\n            <tr>\n                        <th id=\"T_dca37_level0_row9\" class=\"row_heading level0 row9\" >10</th>\n                        <td id=\"T_dca37_row9_col0\" class=\"data row9 col0\" >AdaBoost</td>\n                        <td id=\"T_dca37_row9_col1\" class=\"data row9 col1\" >231.847063</td>\n                        <td id=\"T_dca37_row9_col2\" class=\"data row9 col2\" >14.744511</td>\n                        <td id=\"T_dca37_row9_col3\" class=\"data row9 col3\" >2.318471</td>\n                        <td id=\"T_dca37_row9_col4\" class=\"data row9 col4\" >8.149709</td>\n            </tr>\n    </tbody></table>"
     },
     "execution_count": 25,
     "metadata": {},
     "output_type": "execute_result"
    }
   ],
   "source": [
    "results = pd.DataFrame({'Model': [], 'MSE': [], 'MAE': [], \" % error\": [], 'Time': []})\n",
    "rang = abs(y_train.max()) - abs(y_train.min())\n",
    "for model_name, model in regressors.items():\n",
    "    \n",
    "    start_time = time.time()\n",
    "    model.fit(x_train, y_train)\n",
    "    total_time = time.time() - start_time\n",
    "        \n",
    "    pred = model.predict(x_val)\n",
    "    \n",
    "    results = results.append({\"Model\":    model_name,\n",
    "                              \"MSE\": metrics.mean_squared_error(y_val, pred),\n",
    "                              \"MAE\": metrics.mean_absolute_error(y_val, pred),\n",
    "                              \" % error\": metrics.mean_squared_error(y_val, pred) / rang,\n",
    "                              \"Time\":     total_time},\n",
    "                              ignore_index=True)\n",
    "### END SOLUTION\n",
    "\n",
    "\n",
    "results_ord = results.sort_values(by=['MSE'], ascending=True, ignore_index=True)\n",
    "results_ord.index += 1 \n",
    "results_ord.style.bar(subset=['MSE', 'MAE'], vmin=0, vmax=100, color='#5fba7d')"
   ]
  },
  {
   "cell_type": "code",
   "execution_count": null,
   "outputs": [],
   "source": [],
   "metadata": {
    "collapsed": false,
    "pycharm": {
     "name": "#%%\n"
    }
   }
  }
 ],
 "metadata": {
  "interpreter": {
   "hash": "8e98eea00a698c66ff9007bd5a8bf6209cdaa78d416205c57d24ef9296d8223a"
  },
  "kernelspec": {
   "display_name": "Python 3.7.11 ('strive')",
   "language": "python",
   "name": "python3"
  },
  "language_info": {
   "codemirror_mode": {
    "name": "ipython",
    "version": 3
   },
   "file_extension": ".py",
   "mimetype": "text/x-python",
   "name": "python",
   "nbconvert_exporter": "python",
   "pygments_lexer": "ipython3",
   "version": "3.7.11"
  },
  "orig_nbformat": 4
 },
 "nbformat": 4,
 "nbformat_minor": 2
}