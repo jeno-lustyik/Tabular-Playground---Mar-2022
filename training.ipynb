{
 "cells": [
  {
   "cell_type": "code",
   "execution_count": 4,
   "metadata": {},
   "outputs": [],
   "source": [
    "import pandas as pd\n",
    "import numpy as np\n",
    "from sklearn.preprocessing import OrdinalEncoder\n",
    "from numpy import asarray"
   ]
  },
  {
   "cell_type": "code",
   "execution_count": 5,
   "metadata": {},
   "outputs": [
    {
     "data": {
      "text/html": [
       "<div>\n",
       "<style scoped>\n",
       "    .dataframe tbody tr th:only-of-type {\n",
       "        vertical-align: middle;\n",
       "    }\n",
       "\n",
       "    .dataframe tbody tr th {\n",
       "        vertical-align: top;\n",
       "    }\n",
       "\n",
       "    .dataframe thead th {\n",
       "        text-align: right;\n",
       "    }\n",
       "</style>\n",
       "<table border=\"1\" class=\"dataframe\">\n",
       "  <thead>\n",
       "    <tr style=\"text-align: right;\">\n",
       "      <th></th>\n",
       "      <th>row_id</th>\n",
       "      <th>time</th>\n",
       "      <th>x</th>\n",
       "      <th>y</th>\n",
       "      <th>direction</th>\n",
       "      <th>congestion</th>\n",
       "    </tr>\n",
       "  </thead>\n",
       "  <tbody>\n",
       "    <tr>\n",
       "      <th>0</th>\n",
       "      <td>0</td>\n",
       "      <td>1991-04-01 00:00:00</td>\n",
       "      <td>0</td>\n",
       "      <td>0</td>\n",
       "      <td>EB</td>\n",
       "      <td>70</td>\n",
       "    </tr>\n",
       "    <tr>\n",
       "      <th>1</th>\n",
       "      <td>1</td>\n",
       "      <td>1991-04-01 00:00:00</td>\n",
       "      <td>0</td>\n",
       "      <td>0</td>\n",
       "      <td>NB</td>\n",
       "      <td>49</td>\n",
       "    </tr>\n",
       "    <tr>\n",
       "      <th>2</th>\n",
       "      <td>2</td>\n",
       "      <td>1991-04-01 00:00:00</td>\n",
       "      <td>0</td>\n",
       "      <td>0</td>\n",
       "      <td>SB</td>\n",
       "      <td>24</td>\n",
       "    </tr>\n",
       "    <tr>\n",
       "      <th>3</th>\n",
       "      <td>3</td>\n",
       "      <td>1991-04-01 00:00:00</td>\n",
       "      <td>0</td>\n",
       "      <td>1</td>\n",
       "      <td>EB</td>\n",
       "      <td>18</td>\n",
       "    </tr>\n",
       "    <tr>\n",
       "      <th>4</th>\n",
       "      <td>4</td>\n",
       "      <td>1991-04-01 00:00:00</td>\n",
       "      <td>0</td>\n",
       "      <td>1</td>\n",
       "      <td>NB</td>\n",
       "      <td>60</td>\n",
       "    </tr>\n",
       "  </tbody>\n",
       "</table>\n",
       "</div>"
      ],
      "text/plain": [
       "   row_id                 time  x  y direction  congestion\n",
       "0       0  1991-04-01 00:00:00  0  0        EB          70\n",
       "1       1  1991-04-01 00:00:00  0  0        NB          49\n",
       "2       2  1991-04-01 00:00:00  0  0        SB          24\n",
       "3       3  1991-04-01 00:00:00  0  1        EB          18\n",
       "4       4  1991-04-01 00:00:00  0  1        NB          60"
      ]
     },
     "execution_count": 5,
     "metadata": {},
     "output_type": "execute_result"
    }
   ],
   "source": [
    "df_trg = pd.read_csv('training.csv')\n",
    "df_trg.head()"
   ]
  },
  {
   "cell_type": "code",
   "execution_count": 6,
   "metadata": {},
   "outputs": [
    {
     "data": {
      "text/plain": [
       "str"
      ]
     },
     "execution_count": 6,
     "metadata": {},
     "output_type": "execute_result"
    }
   ],
   "source": [
    "type(df_trg.time[0])"
   ]
  },
  {
   "cell_type": "code",
   "execution_count": 7,
   "metadata": {},
   "outputs": [],
   "source": [
    "route_train = df_trg['x'].astype(str) + df_trg['y'].astype(str) + df_trg['direction']\n",
    "df_trg.insert(2, 'route', route_train )"
   ]
  },
  {
   "cell_type": "code",
   "execution_count": 8,
   "metadata": {},
   "outputs": [],
   "source": [
    "df_trg = df_trg.drop(['time', 'x', 'y', 'direction', 'row_id'], axis = 1)"
   ]
  },
  {
   "cell_type": "code",
   "execution_count": 9,
   "metadata": {},
   "outputs": [
    {
     "data": {
      "text/html": [
       "<div>\n",
       "<style scoped>\n",
       "    .dataframe tbody tr th:only-of-type {\n",
       "        vertical-align: middle;\n",
       "    }\n",
       "\n",
       "    .dataframe tbody tr th {\n",
       "        vertical-align: top;\n",
       "    }\n",
       "\n",
       "    .dataframe thead th {\n",
       "        text-align: right;\n",
       "    }\n",
       "</style>\n",
       "<table border=\"1\" class=\"dataframe\">\n",
       "  <thead>\n",
       "    <tr style=\"text-align: right;\">\n",
       "      <th></th>\n",
       "      <th>route</th>\n",
       "      <th>congestion</th>\n",
       "    </tr>\n",
       "  </thead>\n",
       "  <tbody>\n",
       "    <tr>\n",
       "      <th>0</th>\n",
       "      <td>00EB</td>\n",
       "      <td>70</td>\n",
       "    </tr>\n",
       "    <tr>\n",
       "      <th>1</th>\n",
       "      <td>00NB</td>\n",
       "      <td>49</td>\n",
       "    </tr>\n",
       "    <tr>\n",
       "      <th>2</th>\n",
       "      <td>00SB</td>\n",
       "      <td>24</td>\n",
       "    </tr>\n",
       "    <tr>\n",
       "      <th>3</th>\n",
       "      <td>01EB</td>\n",
       "      <td>18</td>\n",
       "    </tr>\n",
       "    <tr>\n",
       "      <th>4</th>\n",
       "      <td>01NB</td>\n",
       "      <td>60</td>\n",
       "    </tr>\n",
       "  </tbody>\n",
       "</table>\n",
       "</div>"
      ],
      "text/plain": [
       "  route  congestion\n",
       "0  00EB          70\n",
       "1  00NB          49\n",
       "2  00SB          24\n",
       "3  01EB          18\n",
       "4  01NB          60"
      ]
     },
     "execution_count": 9,
     "metadata": {},
     "output_type": "execute_result"
    }
   ],
   "source": [
    "df_trg.head()"
   ]
  },
  {
   "cell_type": "code",
   "execution_count": 10,
   "metadata": {},
   "outputs": [
    {
     "data": {
      "text/plain": [
       "array(['00EB', '00NB', '00SB', ..., '21NW', '21SB', '21SE'], dtype=object)"
      ]
     },
     "execution_count": 10,
     "metadata": {},
     "output_type": "execute_result"
    }
   ],
   "source": [
    "ct = asarray(df_trg['route'])\n",
    "ct"
   ]
  },
  {
   "cell_type": "code",
   "execution_count": 11,
   "metadata": {},
   "outputs": [],
   "source": [
    "oe = OrdinalEncoder()\n",
    "df_trg['route'] = oe.fit_transform(ct.reshape(-1,1))"
   ]
  },
  {
   "cell_type": "markdown",
   "metadata": {},
   "source": [
    "# Pairing"
   ]
  },
  {
   "cell_type": "code",
   "execution_count": 12,
   "metadata": {},
   "outputs": [],
   "source": [
    "def pairing(df_tr, seq_len=195):\n",
    "\n",
    "    x = []\n",
    "    y = []\n",
    "\n",
    "    for i in range(0,(df_tr.shape[0] - seq_len+1), seq_len+1 ): # range is reduced by the len of seq + 1 so that we do not go out of bounds\n",
    "                                                            # we step for that same amount of steps as the seq_len\n",
    "        seq = np.zeros( (seq_len, df_tr.shape[1]) ) #creating a matrix of zeros with the shape of seq_len and the number of columns of the data\n",
    "        \n",
    "        for j in range(seq_len):  # filling the matrix with the data\n",
    "\n",
    "            seq[j] = df_tr.values[i+j]  # filling the matrix with the data we add i to make the jump of the seq_len\n",
    "\n",
    "        x.append(seq.flatten())  # flattening the matrix and appending it to the x list\n",
    "        y.append( df_tr[\"congestion\"][i+seq_len] )  # appending the target to the y list \n",
    "\n",
    "    return np.array(x), np.array(y)\n",
    "\n",
    "#print(data.shape)\n",
    "\n",
    "x, y = pairing(df_trg)"
   ]
  },
  {
   "cell_type": "code",
   "execution_count": 13,
   "metadata": {},
   "outputs": [],
   "source": [
    "xtr =x\n",
    "ytr = y"
   ]
  },
  {
   "cell_type": "code",
   "execution_count": 82,
   "metadata": {},
   "outputs": [
    {
     "data": {
      "text/plain": [
       "array([ 5., 53.,  6., 31.,  7., 48.,  8., 59.,  9., 54., 10., 40., 11.,\n",
       "       36., 12., 36., 13., 29., 14., 62., 15., 28., 16., 40., 17., 53.,\n",
       "       18., 44., 19., 45., 20., 53., 21., 50., 22., 40., 23., 50., 24.,\n",
       "       57., 25., 52., 26., 61., 27., 69., 28., 46., 29., 54., 30., 74.,\n",
       "       31., 48., 32., 62., 33., 40., 34., 64., 35., 57., 36., 67., 37.,\n",
       "       39., 38., 43., 39., 62., 40., 64., 41., 52., 42., 73., 43., 69.,\n",
       "       44., 38., 45., 13., 46., 29., 47., 31., 48., 34., 49., 48., 50.,\n",
       "       61., 51., 74., 52., 56., 53., 38., 54., 21., 55., 70., 56., 44.,\n",
       "       57., 55., 58., 61., 59., 33., 60., 61., 61., 26., 62., 72., 63.,\n",
       "       15., 64., 47.,  0., 50.,  1., 40.,  2., 57.,  3., 24.,  4., 66.,\n",
       "        5., 56.,  6., 39.,  7., 49.,  8., 63.,  9., 74., 10., 40., 11.,\n",
       "       24., 12., 37., 13., 23., 14., 63., 15., 23., 16., 45., 17., 58.,\n",
       "       18., 54., 19., 67., 20., 47., 21., 52., 22., 36., 23., 49., 24.,\n",
       "       49., 25., 68., 26., 64., 27., 73., 28., 57., 29., 51., 30., 75.,\n",
       "       31., 67., 32., 73., 33., 37., 34., 68., 35., 45., 36., 67., 37.,\n",
       "       33., 38., 45., 39., 65., 40., 74., 41., 41., 42., 74., 43., 70.,\n",
       "       44., 29., 45., 18., 46., 29., 47., 36., 48.,  5., 49., 45., 50.,\n",
       "       52., 51., 69., 52., 53., 53., 41., 54., 21., 55., 69., 56., 20.,\n",
       "       57., 56., 58., 75., 59., 33., 60., 55., 61., 28., 62., 73., 63.,\n",
       "        7., 64., 41.,  0., 53.,  1., 50.,  2., 52.,  3., 28.,  4., 74.,\n",
       "        5., 59.,  6., 38.,  7., 46.,  8., 60.,  9., 74., 10., 37., 11.,\n",
       "       26., 12., 38., 13., 29., 14., 64., 15., 30., 16., 55., 17., 53.,\n",
       "       18., 65., 19., 65., 20., 44., 21., 52., 22., 39., 23., 74., 24.,\n",
       "       52., 25., 71., 26., 41., 27., 75., 28., 51., 29., 41., 30., 72.,\n",
       "       31., 67., 32., 72., 33., 43., 34., 66., 35., 59., 36., 64., 37.,\n",
       "       38., 38., 40., 39., 60., 40., 71., 41., 53., 42., 75., 43., 72.,\n",
       "       44., 32., 45., 31., 46., 29., 47., 44., 48., 34., 49., 41., 50.,\n",
       "       51., 51., 60., 52., 60., 53., 37., 54., 21., 55., 75., 56., 20.,\n",
       "       57., 53., 58., 69., 59., 57., 60., 60., 61., 29., 62., 82., 63.,\n",
       "       26., 64., 35.,  0., 42.,  1., 53.,  2., 53.,  3., 18.,  4., 69.])"
      ]
     },
     "execution_count": 82,
     "metadata": {},
     "output_type": "execute_result"
    }
   ],
   "source": [
    "x[-1]"
   ]
  },
  {
   "cell_type": "code",
   "execution_count": 78,
   "metadata": {},
   "outputs": [
    {
     "data": {
      "text/plain": [
       "62"
      ]
     },
     "execution_count": 78,
     "metadata": {},
     "output_type": "execute_result"
    }
   ],
   "source": [
    "y[-1]"
   ]
  },
  {
   "cell_type": "markdown",
   "metadata": {},
   "source": [
    "# Splitting data"
   ]
  },
  {
   "cell_type": "code",
   "execution_count": 33,
   "metadata": {},
   "outputs": [],
   "source": [
    "from sklearn.model_selection import TimeSeriesSplit\n",
    "tscv = TimeSeriesSplit(test_size=2)\n",
    "for train_index, test_index in tscv.split(x):\n",
    "    x_train, x_val = x[train_index], x[test_index]\n",
    "    y_train, y_val = y[train_index], y[test_index]"
   ]
  },
  {
   "cell_type": "code",
   "execution_count": 34,
   "metadata": {},
   "outputs": [],
   "source": [
    "from os import pardir\n",
    "import pandas as pd\n",
    "import numpy as np\n",
    "\n",
    "from sklearn.tree          import DecisionTreeRegressor\n",
    "from sklearn.ensemble      import RandomForestRegressor\n",
    "from sklearn.ensemble      import ExtraTreesRegressor\n",
    "from sklearn.ensemble      import AdaBoostRegressor\n",
    "from sklearn.ensemble      import GradientBoostingRegressor\n",
    "from xgboost               import XGBRegressor\n",
    "from lightgbm              import LGBMRegressor\n",
    "from catboost              import CatBoostRegressor\n",
    "from sklearn.linear_model  import LinearRegression\n",
    "from sklearn.svm           import SVR\n",
    "from sklearn import metrics \n",
    "from sklearn.preprocessing import StandardScaler\n",
    "import time"
   ]
  },
  {
   "cell_type": "code",
   "execution_count": 35,
   "metadata": {},
   "outputs": [],
   "source": [
    "sc = StandardScaler()\n",
    "x_train = sc.fit_transform(x_train)\n",
    "x_val = sc.transform(x_val)"
   ]
  },
  {
   "cell_type": "markdown",
   "metadata": {},
   "source": [
    "# Grid search"
   ]
  },
  {
   "cell_type": "code",
   "execution_count": 47,
   "metadata": {},
   "outputs": [],
   "source": [
    "parame={\"splitter\":[\"best\",\"random\"],\n",
    "            \"max_depth\" : [1,3,5,7,9,11,12],\n",
    "           \"min_samples_leaf\":[1,2,3,4,5,6,7,8,9,10],\n",
    "           \"min_weight_fraction_leaf\":[0.1,0.2,0.3,0.4,0.5],\n",
    "           \"max_features\":[\"auto\",\"log2\",\"sqrt\",None],\n",
    "           \"max_leaf_nodes\":[None,10,20,30,40,50,60,70,80,90] }"
   ]
  },
  {
   "cell_type": "code",
   "execution_count": 48,
   "metadata": {},
   "outputs": [
    {
     "data": {
      "text/plain": [
       "GridSearchCV(estimator=DecisionTreeRegressor(),\n",
       "             param_grid={'max_depth': [1, 3, 5, 7, 9, 11, 12],\n",
       "                         'max_features': ['auto', 'log2', 'sqrt', None],\n",
       "                         'max_leaf_nodes': [None, 10, 20, 30, 40, 50, 60, 70,\n",
       "                                            80, 90],\n",
       "                         'min_samples_leaf': [1, 2, 3, 4, 5, 6, 7, 8, 9, 10],\n",
       "                         'min_weight_fraction_leaf': [0.1, 0.2, 0.3, 0.4, 0.5],\n",
       "                         'splitter': ['best', 'random']})"
      ]
     },
     "execution_count": 48,
     "metadata": {},
     "output_type": "execute_result"
    }
   ],
   "source": [
    "\n",
    "from sklearn.model_selection import GridSearchCV\n",
    "dctr = DecisionTreeRegressor()\n",
    "\n",
    "grid_dt = GridSearchCV(dctr, parame)\n",
    "\n",
    "grid_dt.fit(x_train, y_train)"
   ]
  },
  {
   "cell_type": "code",
   "execution_count": 49,
   "metadata": {},
   "outputs": [
    {
     "data": {
      "text/plain": [
       "{'max_depth': 3,\n",
       " 'max_features': 'auto',\n",
       " 'max_leaf_nodes': None,\n",
       " 'min_samples_leaf': 1,\n",
       " 'min_weight_fraction_leaf': 0.1,\n",
       " 'splitter': 'best'}"
      ]
     },
     "execution_count": 49,
     "metadata": {},
     "output_type": "execute_result"
    }
   ],
   "source": [
    "grid_dt.best_params_"
   ]
  },
  {
   "cell_type": "markdown",
   "metadata": {},
   "source": [
    "# Training models"
   ]
  },
  {
   "cell_type": "code",
   "execution_count": 111,
   "metadata": {},
   "outputs": [],
   "source": [
    "regressors = {\n",
    "   \"Decision Tree\": DecisionTreeRegressor(),\n",
    "   \"Extra Trees\":   ExtraTreesRegressor(n_estimators=100),\n",
    "   \"Random Forest\": RandomForestRegressor(n_estimators=100),\n",
    "   \"AdaBoost\":      AdaBoostRegressor(n_estimators=100),\n",
    "   \"Skl GBM\":       GradientBoostingRegressor(n_estimators=100),\n",
    "   \"XGBoost\":       XGBRegressor(n_estimators=100),\n",
    "   \"LightGBM\":      LGBMRegressor(n_estimators=100),\n",
    "   \"CatBoost\":      CatBoostRegressor(n_estimators=100),\n",
    "  'Linear Regression' : LinearRegression(),\n",
    "  'svr'              :  SVR()\n",
    "}"
   ]
  },
  {
   "cell_type": "code",
   "execution_count": 105,
   "metadata": {},
   "outputs": [],
   "source": [
    "from sklearn import model_selection \n",
    "from sklearn import metrics\n"
   ]
  },
  {
   "cell_type": "code",
   "execution_count": 112,
   "metadata": {},
   "outputs": [
    {
     "name": "stdout",
     "output_type": "stream",
     "text": [
      "[08:42:40] WARNING: src/objective/regression_obj.cu:152: reg:linear is now deprecated in favor of reg:squarederror.\n",
      "Learning rate set to 0.274053\n",
      "0:\tlearn: 14.2733050\ttotal: 37.2ms\tremaining: 3.68s\n",
      "1:\tlearn: 12.5551652\ttotal: 74.4ms\tremaining: 3.65s\n",
      "2:\tlearn: 11.3560228\ttotal: 106ms\tremaining: 3.41s\n",
      "3:\tlearn: 10.4738558\ttotal: 136ms\tremaining: 3.26s\n",
      "4:\tlearn: 10.0449811\ttotal: 183ms\tremaining: 3.47s\n",
      "5:\tlearn: 9.7189101\ttotal: 227ms\tremaining: 3.56s\n",
      "6:\tlearn: 9.4265781\ttotal: 258ms\tremaining: 3.43s\n",
      "7:\tlearn: 9.2507650\ttotal: 287ms\tremaining: 3.3s\n",
      "8:\tlearn: 9.1243206\ttotal: 325ms\tremaining: 3.28s\n",
      "9:\tlearn: 8.9951760\ttotal: 354ms\tremaining: 3.19s\n",
      "10:\tlearn: 8.9121398\ttotal: 390ms\tremaining: 3.15s\n",
      "11:\tlearn: 8.8511101\ttotal: 428ms\tremaining: 3.14s\n",
      "12:\tlearn: 8.8410738\ttotal: 461ms\tremaining: 3.08s\n",
      "13:\tlearn: 8.7718677\ttotal: 487ms\tremaining: 2.99s\n",
      "14:\tlearn: 8.7293444\ttotal: 515ms\tremaining: 2.92s\n",
      "15:\tlearn: 8.6791272\ttotal: 547ms\tremaining: 2.87s\n",
      "16:\tlearn: 8.6363450\ttotal: 585ms\tremaining: 2.85s\n",
      "17:\tlearn: 8.5885140\ttotal: 612ms\tremaining: 2.79s\n",
      "18:\tlearn: 8.5648246\ttotal: 648ms\tremaining: 2.76s\n",
      "19:\tlearn: 8.5192198\ttotal: 680ms\tremaining: 2.72s\n",
      "20:\tlearn: 8.4963701\ttotal: 705ms\tremaining: 2.65s\n",
      "21:\tlearn: 8.4521222\ttotal: 738ms\tremaining: 2.62s\n",
      "22:\tlearn: 8.4254994\ttotal: 771ms\tremaining: 2.58s\n",
      "23:\tlearn: 8.3855142\ttotal: 798ms\tremaining: 2.53s\n",
      "24:\tlearn: 8.3345575\ttotal: 827ms\tremaining: 2.48s\n",
      "25:\tlearn: 8.3083060\ttotal: 860ms\tremaining: 2.45s\n",
      "26:\tlearn: 8.2835619\ttotal: 890ms\tremaining: 2.41s\n",
      "27:\tlearn: 8.2479354\ttotal: 915ms\tremaining: 2.35s\n",
      "28:\tlearn: 8.2360439\ttotal: 946ms\tremaining: 2.31s\n",
      "29:\tlearn: 8.1992824\ttotal: 974ms\tremaining: 2.27s\n",
      "30:\tlearn: 8.1763676\ttotal: 1s\tremaining: 2.23s\n",
      "31:\tlearn: 8.1577348\ttotal: 1.03s\tremaining: 2.19s\n",
      "32:\tlearn: 8.1496800\ttotal: 1.06s\tremaining: 2.15s\n",
      "33:\tlearn: 8.1013955\ttotal: 1.09s\tremaining: 2.12s\n",
      "34:\tlearn: 8.0227699\ttotal: 1.12s\tremaining: 2.09s\n",
      "35:\tlearn: 8.0093717\ttotal: 1.15s\tremaining: 2.05s\n",
      "36:\tlearn: 7.9378109\ttotal: 1.2s\tremaining: 2.04s\n",
      "37:\tlearn: 7.8882580\ttotal: 1.24s\tremaining: 2.02s\n",
      "38:\tlearn: 7.8452334\ttotal: 1.27s\tremaining: 1.98s\n",
      "39:\tlearn: 7.8346427\ttotal: 1.3s\tremaining: 1.95s\n",
      "40:\tlearn: 7.8149667\ttotal: 1.34s\tremaining: 1.92s\n",
      "41:\tlearn: 7.7716539\ttotal: 1.37s\tremaining: 1.89s\n",
      "42:\tlearn: 7.7291364\ttotal: 1.4s\tremaining: 1.86s\n",
      "43:\tlearn: 7.7225511\ttotal: 1.44s\tremaining: 1.83s\n",
      "44:\tlearn: 7.6905941\ttotal: 1.48s\tremaining: 1.81s\n",
      "45:\tlearn: 7.6465195\ttotal: 1.51s\tremaining: 1.77s\n",
      "46:\tlearn: 7.5752463\ttotal: 1.55s\tremaining: 1.75s\n",
      "47:\tlearn: 7.5381602\ttotal: 1.58s\tremaining: 1.71s\n",
      "48:\tlearn: 7.4976385\ttotal: 1.6s\tremaining: 1.67s\n",
      "49:\tlearn: 7.4823475\ttotal: 1.63s\tremaining: 1.63s\n",
      "50:\tlearn: 7.4024869\ttotal: 1.68s\tremaining: 1.61s\n",
      "51:\tlearn: 7.3639429\ttotal: 1.72s\tremaining: 1.58s\n",
      "52:\tlearn: 7.3150711\ttotal: 1.75s\tremaining: 1.55s\n",
      "53:\tlearn: 7.2720468\ttotal: 1.79s\tremaining: 1.53s\n",
      "54:\tlearn: 7.2626870\ttotal: 1.84s\tremaining: 1.5s\n",
      "55:\tlearn: 7.2270608\ttotal: 1.88s\tremaining: 1.48s\n",
      "56:\tlearn: 7.1895393\ttotal: 1.93s\tremaining: 1.46s\n",
      "57:\tlearn: 7.1826743\ttotal: 1.96s\tremaining: 1.42s\n",
      "58:\tlearn: 7.1734304\ttotal: 2s\tremaining: 1.39s\n",
      "59:\tlearn: 7.1419958\ttotal: 2.04s\tremaining: 1.36s\n",
      "60:\tlearn: 7.1009681\ttotal: 2.08s\tremaining: 1.33s\n",
      "61:\tlearn: 7.0303630\ttotal: 2.11s\tremaining: 1.29s\n",
      "62:\tlearn: 6.9577295\ttotal: 2.15s\tremaining: 1.26s\n",
      "63:\tlearn: 6.9196380\ttotal: 2.19s\tremaining: 1.23s\n",
      "64:\tlearn: 6.8908656\ttotal: 2.23s\tremaining: 1.2s\n",
      "65:\tlearn: 6.8767242\ttotal: 2.27s\tremaining: 1.17s\n",
      "66:\tlearn: 6.8502097\ttotal: 2.3s\tremaining: 1.13s\n",
      "67:\tlearn: 6.7919764\ttotal: 2.34s\tremaining: 1.1s\n",
      "68:\tlearn: 6.7264054\ttotal: 2.38s\tremaining: 1.07s\n",
      "69:\tlearn: 6.7188173\ttotal: 2.42s\tremaining: 1.04s\n",
      "70:\tlearn: 6.6819363\ttotal: 2.46s\tremaining: 1s\n",
      "71:\tlearn: 6.6688307\ttotal: 2.5s\tremaining: 971ms\n",
      "72:\tlearn: 6.6633191\ttotal: 2.54s\tremaining: 939ms\n",
      "73:\tlearn: 6.6387620\ttotal: 2.57s\tremaining: 902ms\n",
      "74:\tlearn: 6.6011941\ttotal: 2.6s\tremaining: 865ms\n",
      "75:\tlearn: 6.5967872\ttotal: 2.62s\tremaining: 828ms\n",
      "76:\tlearn: 6.5677178\ttotal: 2.68s\tremaining: 802ms\n",
      "77:\tlearn: 6.5615067\ttotal: 2.72s\tremaining: 767ms\n",
      "78:\tlearn: 6.5287558\ttotal: 2.77s\tremaining: 737ms\n",
      "79:\tlearn: 6.5111304\ttotal: 2.8s\tremaining: 699ms\n",
      "80:\tlearn: 6.4878339\ttotal: 2.84s\tremaining: 667ms\n",
      "81:\tlearn: 6.4566431\ttotal: 2.87s\tremaining: 630ms\n",
      "82:\tlearn: 6.4023188\ttotal: 2.91s\tremaining: 596ms\n",
      "83:\tlearn: 6.3625564\ttotal: 2.93s\tremaining: 559ms\n",
      "84:\tlearn: 6.3559632\ttotal: 2.97s\tremaining: 524ms\n",
      "85:\tlearn: 6.3270417\ttotal: 3.02s\tremaining: 492ms\n",
      "86:\tlearn: 6.3212882\ttotal: 3.05s\tremaining: 456ms\n",
      "87:\tlearn: 6.2727831\ttotal: 3.09s\tremaining: 421ms\n",
      "88:\tlearn: 6.2237455\ttotal: 3.13s\tremaining: 387ms\n",
      "89:\tlearn: 6.1999823\ttotal: 3.16s\tremaining: 352ms\n",
      "90:\tlearn: 6.1736527\ttotal: 3.2s\tremaining: 316ms\n",
      "91:\tlearn: 6.1289292\ttotal: 3.24s\tremaining: 282ms\n",
      "92:\tlearn: 6.1033042\ttotal: 3.3s\tremaining: 248ms\n",
      "93:\tlearn: 6.0674431\ttotal: 3.33s\tremaining: 213ms\n",
      "94:\tlearn: 6.0328513\ttotal: 3.36s\tremaining: 177ms\n",
      "95:\tlearn: 5.9816326\ttotal: 3.41s\tremaining: 142ms\n",
      "96:\tlearn: 5.9491503\ttotal: 3.45s\tremaining: 107ms\n",
      "97:\tlearn: 5.9056222\ttotal: 3.5s\tremaining: 71.5ms\n",
      "98:\tlearn: 5.8857454\ttotal: 3.54s\tremaining: 35.8ms\n",
      "99:\tlearn: 5.8336644\ttotal: 3.59s\tremaining: 0us\n"
     ]
    },
    {
     "data": {
      "text/html": [
       "<style type=\"text/css\">\n",
       "#T_d7973_row0_col1 {\n",
       "  width: 10em;\n",
       "  height: 80%;\n",
       "  background: linear-gradient(90deg,#5fba7d 17.0%, transparent 17.0%);\n",
       "}\n",
       "#T_d7973_row0_col2 {\n",
       "  width: 10em;\n",
       "  height: 80%;\n",
       "  background: linear-gradient(90deg,#5fba7d 4.0%, transparent 4.0%);\n",
       "}\n",
       "#T_d7973_row1_col1 {\n",
       "  width: 10em;\n",
       "  height: 80%;\n",
       "  background: linear-gradient(90deg,#5fba7d 38.0%, transparent 38.0%);\n",
       "}\n",
       "#T_d7973_row1_col2 {\n",
       "  width: 10em;\n",
       "  height: 80%;\n",
       "  background: linear-gradient(90deg,#5fba7d 5.5%, transparent 5.5%);\n",
       "}\n",
       "#T_d7973_row2_col1 {\n",
       "  width: 10em;\n",
       "  height: 80%;\n",
       "  background: linear-gradient(90deg,#5fba7d 60.7%, transparent 60.7%);\n",
       "}\n",
       "#T_d7973_row2_col2, #T_d7973_row8_col2 {\n",
       "  width: 10em;\n",
       "  height: 80%;\n",
       "  background: linear-gradient(90deg,#5fba7d 7.3%, transparent 7.3%);\n",
       "}\n",
       "#T_d7973_row3_col1 {\n",
       "  width: 10em;\n",
       "  height: 80%;\n",
       "  background: linear-gradient(90deg,#5fba7d 61.9%, transparent 61.9%);\n",
       "}\n",
       "#T_d7973_row3_col2 {\n",
       "  width: 10em;\n",
       "  height: 80%;\n",
       "  background: linear-gradient(90deg,#5fba7d 7.5%, transparent 7.5%);\n",
       "}\n",
       "#T_d7973_row4_col1 {\n",
       "  width: 10em;\n",
       "  height: 80%;\n",
       "  background: linear-gradient(90deg,#5fba7d 64.9%, transparent 64.9%);\n",
       "}\n",
       "#T_d7973_row4_col2 {\n",
       "  width: 10em;\n",
       "  height: 80%;\n",
       "  background: linear-gradient(90deg,#5fba7d 7.1%, transparent 7.1%);\n",
       "}\n",
       "#T_d7973_row5_col1 {\n",
       "  width: 10em;\n",
       "  height: 80%;\n",
       "  background: linear-gradient(90deg,#5fba7d 69.8%, transparent 69.8%);\n",
       "}\n",
       "#T_d7973_row5_col2 {\n",
       "  width: 10em;\n",
       "  height: 80%;\n",
       "  background: linear-gradient(90deg,#5fba7d 8.3%, transparent 8.3%);\n",
       "}\n",
       "#T_d7973_row6_col1 {\n",
       "  width: 10em;\n",
       "  height: 80%;\n",
       "  background: linear-gradient(90deg,#5fba7d 80.4%, transparent 80.4%);\n",
       "}\n",
       "#T_d7973_row6_col2 {\n",
       "  width: 10em;\n",
       "  height: 80%;\n",
       "  background: linear-gradient(90deg,#5fba7d 8.4%, transparent 8.4%);\n",
       "}\n",
       "#T_d7973_row7_col1 {\n",
       "  width: 10em;\n",
       "  height: 80%;\n",
       "  background: linear-gradient(90deg,#5fba7d 87.5%, transparent 87.5%);\n",
       "}\n",
       "#T_d7973_row7_col2 {\n",
       "  width: 10em;\n",
       "  height: 80%;\n",
       "  background: linear-gradient(90deg,#5fba7d 8.9%, transparent 8.9%);\n",
       "}\n",
       "#T_d7973_row8_col1, #T_d7973_row9_col1 {\n",
       "  width: 10em;\n",
       "  height: 80%;\n",
       "  background: linear-gradient(90deg,#5fba7d 100.0%, transparent 100.0%);\n",
       "}\n",
       "#T_d7973_row9_col2 {\n",
       "  width: 10em;\n",
       "  height: 80%;\n",
       "  background: linear-gradient(90deg,#5fba7d 16.5%, transparent 16.5%);\n",
       "}\n",
       "</style>\n",
       "<table id=\"T_d7973_\">\n",
       "  <thead>\n",
       "    <tr>\n",
       "      <th class=\"blank level0\" >&nbsp;</th>\n",
       "      <th class=\"col_heading level0 col0\" >Model</th>\n",
       "      <th class=\"col_heading level0 col1\" >MSE</th>\n",
       "      <th class=\"col_heading level0 col2\" >MAE</th>\n",
       "      <th class=\"col_heading level0 col3\" > % error</th>\n",
       "      <th class=\"col_heading level0 col4\" >Time</th>\n",
       "    </tr>\n",
       "  </thead>\n",
       "  <tbody>\n",
       "    <tr>\n",
       "      <th id=\"T_d7973_level0_row0\" class=\"row_heading level0 row0\" >1</th>\n",
       "      <td id=\"T_d7973_row0_col0\" class=\"data row0 col0\" >Decision Tree</td>\n",
       "      <td id=\"T_d7973_row0_col1\" class=\"data row0 col1\" >17.000000</td>\n",
       "      <td id=\"T_d7973_row0_col2\" class=\"data row0 col2\" >4.000000</td>\n",
       "      <td id=\"T_d7973_row0_col3\" class=\"data row0 col3\" >0.170000</td>\n",
       "      <td id=\"T_d7973_row0_col4\" class=\"data row0 col4\" >1.221580</td>\n",
       "    </tr>\n",
       "    <tr>\n",
       "      <th id=\"T_d7973_level0_row1\" class=\"row_heading level0 row1\" >2</th>\n",
       "      <td id=\"T_d7973_row1_col0\" class=\"data row1 col0\" >Linear Regression</td>\n",
       "      <td id=\"T_d7973_row1_col1\" class=\"data row1 col1\" >37.963812</td>\n",
       "      <td id=\"T_d7973_row1_col2\" class=\"data row1 col2\" >5.490859</td>\n",
       "      <td id=\"T_d7973_row1_col3\" class=\"data row1 col3\" >0.379638</td>\n",
       "      <td id=\"T_d7973_row1_col4\" class=\"data row1 col4\" >0.231017</td>\n",
       "    </tr>\n",
       "    <tr>\n",
       "      <th id=\"T_d7973_level0_row2\" class=\"row_heading level0 row2\" >3</th>\n",
       "      <td id=\"T_d7973_row2_col0\" class=\"data row2 col0\" >Extra Trees</td>\n",
       "      <td id=\"T_d7973_row2_col1\" class=\"data row2 col1\" >60.704450</td>\n",
       "      <td id=\"T_d7973_row2_col2\" class=\"data row2 col2\" >7.265000</td>\n",
       "      <td id=\"T_d7973_row2_col3\" class=\"data row2 col3\" >0.607044</td>\n",
       "      <td id=\"T_d7973_row2_col4\" class=\"data row2 col4\" >32.665414</td>\n",
       "    </tr>\n",
       "    <tr>\n",
       "      <th id=\"T_d7973_level0_row3\" class=\"row_heading level0 row3\" >4</th>\n",
       "      <td id=\"T_d7973_row3_col0\" class=\"data row3 col0\" >svr</td>\n",
       "      <td id=\"T_d7973_row3_col1\" class=\"data row3 col1\" >61.933931</td>\n",
       "      <td id=\"T_d7973_row3_col2\" class=\"data row3 col2\" >7.458631</td>\n",
       "      <td id=\"T_d7973_row3_col3\" class=\"data row3 col3\" >0.619339</td>\n",
       "      <td id=\"T_d7973_row3_col4\" class=\"data row3 col4\" >4.266500</td>\n",
       "    </tr>\n",
       "    <tr>\n",
       "      <th id=\"T_d7973_level0_row4\" class=\"row_heading level0 row4\" >5</th>\n",
       "      <td id=\"T_d7973_row4_col0\" class=\"data row4 col0\" >Random Forest</td>\n",
       "      <td id=\"T_d7973_row4_col1\" class=\"data row4 col1\" >64.948900</td>\n",
       "      <td id=\"T_d7973_row4_col2\" class=\"data row4 col2\" >7.080000</td>\n",
       "      <td id=\"T_d7973_row4_col3\" class=\"data row4 col3\" >0.649489</td>\n",
       "      <td id=\"T_d7973_row4_col4\" class=\"data row4 col4\" >63.440960</td>\n",
       "    </tr>\n",
       "    <tr>\n",
       "      <th id=\"T_d7973_level0_row5\" class=\"row_heading level0 row5\" >6</th>\n",
       "      <td id=\"T_d7973_row5_col0\" class=\"data row5 col0\" >CatBoost</td>\n",
       "      <td id=\"T_d7973_row5_col1\" class=\"data row5 col1\" >69.751935</td>\n",
       "      <td id=\"T_d7973_row5_col2\" class=\"data row5 col2\" >8.310648</td>\n",
       "      <td id=\"T_d7973_row5_col3\" class=\"data row5 col3\" >0.697519</td>\n",
       "      <td id=\"T_d7973_row5_col4\" class=\"data row5 col4\" >4.430670</td>\n",
       "    </tr>\n",
       "    <tr>\n",
       "      <th id=\"T_d7973_level0_row6\" class=\"row_heading level0 row6\" >7</th>\n",
       "      <td id=\"T_d7973_row6_col0\" class=\"data row6 col0\" >XGBoost</td>\n",
       "      <td id=\"T_d7973_row6_col1\" class=\"data row6 col1\" >80.395424</td>\n",
       "      <td id=\"T_d7973_row6_col2\" class=\"data row6 col2\" >8.393625</td>\n",
       "      <td id=\"T_d7973_row6_col3\" class=\"data row6 col3\" >0.803954</td>\n",
       "      <td id=\"T_d7973_row6_col4\" class=\"data row6 col4\" >3.000632</td>\n",
       "    </tr>\n",
       "    <tr>\n",
       "      <th id=\"T_d7973_level0_row7\" class=\"row_heading level0 row7\" >8</th>\n",
       "      <td id=\"T_d7973_row7_col0\" class=\"data row7 col0\" >Skl GBM</td>\n",
       "      <td id=\"T_d7973_row7_col1\" class=\"data row7 col1\" >87.502521</td>\n",
       "      <td id=\"T_d7973_row7_col2\" class=\"data row7 col2\" >8.858633</td>\n",
       "      <td id=\"T_d7973_row7_col3\" class=\"data row7 col3\" >0.875025</td>\n",
       "      <td id=\"T_d7973_row7_col4\" class=\"data row7 col4\" >22.260757</td>\n",
       "    </tr>\n",
       "    <tr>\n",
       "      <th id=\"T_d7973_level0_row8\" class=\"row_heading level0 row8\" >9</th>\n",
       "      <td id=\"T_d7973_row8_col0\" class=\"data row8 col0\" >LightGBM</td>\n",
       "      <td id=\"T_d7973_row8_col1\" class=\"data row8 col1\" >105.493323</td>\n",
       "      <td id=\"T_d7973_row8_col2\" class=\"data row8 col2\" >7.298902</td>\n",
       "      <td id=\"T_d7973_row8_col3\" class=\"data row8 col3\" >1.054933</td>\n",
       "      <td id=\"T_d7973_row8_col4\" class=\"data row8 col4\" >1.354271</td>\n",
       "    </tr>\n",
       "    <tr>\n",
       "      <th id=\"T_d7973_level0_row9\" class=\"row_heading level0 row9\" >10</th>\n",
       "      <td id=\"T_d7973_row9_col0\" class=\"data row9 col0\" >AdaBoost</td>\n",
       "      <td id=\"T_d7973_row9_col1\" class=\"data row9 col1\" >277.662051</td>\n",
       "      <td id=\"T_d7973_row9_col2\" class=\"data row9 col2\" >16.491227</td>\n",
       "      <td id=\"T_d7973_row9_col3\" class=\"data row9 col3\" >2.776621</td>\n",
       "      <td id=\"T_d7973_row9_col4\" class=\"data row9 col4\" >18.716371</td>\n",
       "    </tr>\n",
       "  </tbody>\n",
       "</table>\n"
      ],
      "text/plain": [
       "<pandas.io.formats.style.Styler at 0x220c5c96748>"
      ]
     },
     "execution_count": 112,
     "metadata": {},
     "output_type": "execute_result"
    }
   ],
   "source": [
    "results = pd.DataFrame({'Model': [], 'MSE': [], 'MAE': [], \" % error\": [], 'Time': []})\n",
    "rang = abs(y_train.max()) - abs(y_train.min())\n",
    "for model_name, model in regressors.items():\n",
    "    \n",
    "    start_time = time.time()\n",
    "    model.fit(x_train, y_train)\n",
    "    total_time = time.time() - start_time\n",
    "        \n",
    "    pred = model.predict(x_val)\n",
    "    \n",
    "    results = results.append({\"Model\":    model_name,\n",
    "                              \"MSE\": metrics.mean_squared_error(y_val, pred),\n",
    "                              \"MAE\": metrics.mean_absolute_error(y_val, pred),\n",
    "                              \" % error\": metrics.mean_squared_error(y_val, pred) / rang,\n",
    "                              \"Time\":     total_time},\n",
    "                              ignore_index=True)\n",
    "### END SOLUTION\n",
    "\n",
    "\n",
    "results_ord = results.sort_values(by=['MSE'], ascending=True, ignore_index=True)\n",
    "results_ord.index += 1 \n",
    "results_ord.style.bar(subset=['MSE', 'MAE'], vmin=0, vmax=100, color='#5fba7d')"
   ]
  },
  {
   "cell_type": "code",
   "execution_count": 113,
   "metadata": {},
   "outputs": [
    {
     "data": {
      "text/plain": [
       "DecisionTreeRegressor()"
      ]
     },
     "execution_count": 113,
     "metadata": {},
     "output_type": "execute_result"
    }
   ],
   "source": [
    "best_model = regressors[results_ord.iloc[0][0]]\n",
    "best_model"
   ]
  },
  {
   "cell_type": "code",
   "execution_count": 114,
   "metadata": {},
   "outputs": [
    {
     "data": {
      "text/plain": [
       "DecisionTreeRegressor()"
      ]
     },
     "execution_count": 114,
     "metadata": {},
     "output_type": "execute_result"
    }
   ],
   "source": [
    "best_model.fit(x,y)"
   ]
  },
  {
   "cell_type": "code",
   "execution_count": 115,
   "metadata": {},
   "outputs": [
    {
     "data": {
      "text/plain": [
       "62"
      ]
     },
     "execution_count": 115,
     "metadata": {},
     "output_type": "execute_result"
    }
   ],
   "source": [
    "y_val[-1]"
   ]
  },
  {
   "cell_type": "code",
   "execution_count": 116,
   "metadata": {},
   "outputs": [
    {
     "data": {
      "text/plain": [
       "74"
      ]
     },
     "execution_count": 116,
     "metadata": {},
     "output_type": "execute_result"
    }
   ],
   "source": [
    "y_val[-2]"
   ]
  },
  {
   "cell_type": "code",
   "execution_count": 117,
   "metadata": {},
   "outputs": [
    {
     "data": {
      "text/plain": [
       "array([46., 46.])"
      ]
     },
     "execution_count": 117,
     "metadata": {},
     "output_type": "execute_result"
    }
   ],
   "source": [
    "test_pred = np.ceil(best_model.predict(x_val))\n",
    "\n",
    "test_pred"
   ]
  },
  {
   "cell_type": "code",
   "execution_count": null,
   "metadata": {},
   "outputs": [],
   "source": []
  }
 ],
 "metadata": {
  "interpreter": {
   "hash": "8e98eea00a698c66ff9007bd5a8bf6209cdaa78d416205c57d24ef9296d8223a"
  },
  "kernelspec": {
   "display_name": "Python 3.7.11 ('strive')",
   "language": "python",
   "name": "python3"
  },
  "language_info": {
   "codemirror_mode": {
    "name": "ipython",
    "version": 3
   },
   "file_extension": ".py",
   "mimetype": "text/x-python",
   "name": "python",
   "nbconvert_exporter": "python",
   "pygments_lexer": "ipython3",
   "version": "3.7.11"
  },
  "orig_nbformat": 4
 },
 "nbformat": 4,
 "nbformat_minor": 2
}
